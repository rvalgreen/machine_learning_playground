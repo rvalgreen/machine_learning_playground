{
 "cells": [
  {
   "cell_type": "code",
   "execution_count": 152,
   "metadata": {},
   "outputs": [],
   "source": [
    "import pandas as pd\n",
    "import numpy as np\n",
    "from sklearn.model_selection import train_test_split\n",
    "from sklearn.ensemble import RandomForestRegressor, RandomForestClassifier\n",
    "from sklearn.metrics import mean_absolute_error\n",
    "import matplotlib.pyplot as plt\n",
    "\n",
    "import pandas as pd\n",
    "import torch\n",
    "from sklearn.model_selection import train_test_split\n",
    "from transformers import DataCollatorWithPadding, GPT2Tokenizer, DistilBertForSequenceClassification, DistilBertModel, DistilBertTokenizer, TrainingArguments, Trainer, TrainingArguments\n",
    "from datasets import load_metric\n",
    "from torch.utils.data import DataLoader\n",
    "from torch.utils.data import DataLoader, Dataset\n",
    "import numpy as np\n",
    "from sklearn.preprocessing import LabelEncoder\n",
    "from sklearn.metrics import confusion_matrix, ConfusionMatrixDisplay, classification_report, roc_curve, auc, accuracy_score\n",
    "from torch import nn\n",
    "import matplotlib.pyplot as plt\n",
    "import seaborn as sns\n",
    "import random\n",
    "import wandb\n",
    "from sklearn.metrics import mean_absolute_error, mean_squared_error, r2_score\n",
    "import joblib\n",
    "\n"
   ]
  },
  {
   "cell_type": "code",
   "execution_count": 153,
   "metadata": {},
   "outputs": [],
   "source": [
    "estimators = 100\n",
    "do_label_same_size_sample = False"
   ]
  },
  {
   "cell_type": "markdown",
   "metadata": {},
   "source": [
    "# RFR TIMESPLIT"
   ]
  },
  {
   "cell_type": "code",
   "execution_count": 154,
   "metadata": {},
   "outputs": [],
   "source": [
    "# Load data \n",
    "dataFrame = pd.read_csv('digitalizações_registadas.csv', \n",
    "                       delimiter=\";\",\n",
    "                       date_format=\"\", \n",
    "                       parse_dates=['Data Emissão','Data entrada','Data vencimento indicada'])  \n",
    "\n",
    "# Strip any leading or trailing whitespace from column names\n",
    "dataFrame.columns = dataFrame.columns.str.strip()\n",
    "\n",
    "# Get unnamed columns to remove\n",
    "unnamed_columns = [col for col in dataFrame.columns if col.startswith('Unnamed')]\n",
    "\n",
    "# Drop unnamed columns\n",
    "dataFrame = dataFrame.drop(columns=unnamed_columns)\n",
    "\n",
    "# Drop rows with any null values\n",
    "dataFrame = dataFrame.dropna(subset=['Data vencimento indicada','Data Emissão','Origem']) #'Contrato'\n",
    "# Drop specific row with date in year 221\n",
    "dataFrame = dataFrame[dataFrame['Nº documento Fornecedor'] != \"ZRF2 2/6001001951\"]\n",
    "\n",
    "dataFrame['Data Emissão'] = pd.to_datetime(dataFrame['Data Emissão'], format=\"%d/%m/%Y\")\n",
    "dataFrame['Data entrada'] = pd.to_datetime(dataFrame['Data entrada'], format=\"%d/%m/%Y\")\n",
    "dataFrame['Data vencimento indicada'] = pd.to_datetime(dataFrame['Data vencimento indicada'], format=\"%d/%m/%Y\")\n",
    "\n",
    "dataFrame['Valor com IVA'] = dataFrame['Valor com IVA'].str.replace(',', '').astype(float)\n"
   ]
  },
  {
   "cell_type": "code",
   "execution_count": 155,
   "metadata": {},
   "outputs": [],
   "source": [
    "dataFrame = dataFrame[dataFrame['Origem'] != \"Requisição\"]\n",
    "dataFrame['Labels'] = dataFrame['Origem']"
   ]
  },
  {
   "cell_type": "code",
   "execution_count": 156,
   "metadata": {},
   "outputs": [],
   "source": [
    "if do_label_same_size_sample:\n",
    "    grouped = dataFrame.groupby('Labels')\n",
    "    min_size = grouped.size().min()\n",
    "    dataFrame = grouped.apply(lambda x: x.sample(min_size)).reset_index(drop=True)"
   ]
  },
  {
   "cell_type": "code",
   "execution_count": 157,
   "metadata": {},
   "outputs": [],
   "source": [
    "# Feature Engineering\n",
    "dataFrame['MonthEmissão'] = dataFrame['Data Emissão'].dt.month\n",
    "dataFrame['DayOfWeekEmissão'] = dataFrame['Data Emissão'].dt.dayofweek\n",
    "\n",
    "dataFrame['MonthEntrada'] = dataFrame['Data entrada'].dt.month\n",
    "dataFrame['DayOfWeekEntrada'] = dataFrame['Data entrada'].dt.dayofweek\n",
    "\n",
    "dataFrame['MonthVencimento'] = dataFrame['Data vencimento indicada'].dt.month\n",
    "dataFrame['DayOfWeekVencimento'] = dataFrame['Data vencimento indicada'].dt.dayofweek"
   ]
  },
  {
   "cell_type": "code",
   "execution_count": 158,
   "metadata": {},
   "outputs": [],
   "source": [
    "seed = 42\n",
    "torch.manual_seed(seed)\n",
    "torch.cuda.manual_seed(seed) if torch.cuda.is_available() else None\n",
    "np.random.seed(seed)\n",
    "random.seed(seed)"
   ]
  },
  {
   "cell_type": "code",
   "execution_count": 159,
   "metadata": {},
   "outputs": [
    {
     "name": "stdout",
     "output_type": "stream",
     "text": [
      "31101\n",
      "25692\n",
      "5409\n",
      "Mean Absolute Error: 0.09169902015159918\n",
      "Mean Squared Error (MSE): 0.09169902015159918\n",
      "R-squared (R²): -0.1738558591196555\n",
      "Accuracy: 90.83%\n"
     ]
    }
   ],
   "source": [
    "# encode data\n",
    "label_encoder = LabelEncoder()\n",
    "\n",
    "dataFrame_before_2024 = dataFrame[dataFrame['Data entrada'] < '2024-01-01']\n",
    "dataFrame_after_2024 = dataFrame[dataFrame['Data entrada'] >= '2024-01-01']\n",
    "\n",
    "print(len(dataFrame))\n",
    "print(len(dataFrame_before_2024))\n",
    "print(len(dataFrame_after_2024))\n",
    "\n",
    "train_labels = dataFrame_before_2024['Labels'].tolist()\n",
    "test_labels = dataFrame_after_2024['Labels'].tolist()\n",
    "\n",
    "encoded_labels_train = label_encoder.fit_transform(train_labels)\n",
    "encoded_labels_test = label_encoder.fit_transform(test_labels)\n",
    "\n",
    "\n",
    "dataFrame_before_2024 = dataFrame_before_2024.drop([\"Labels\",\"Estado\",\n",
    "                   \"Data Emissão\",\"Data vencimento indicada\",\n",
    "                   \"Data entrada\",\"Origem\",\"Nº documento Fornecedor\",\n",
    "                   \"Nº Encomenda\",\"Âmbito de Compra\"], axis=1)\n",
    "\n",
    "dataFrame_before_2024['Fornecedor'] = label_encoder.fit_transform(dataFrame_before_2024['Fornecedor'])\n",
    "\n",
    "\n",
    "dataFrame_after_2024 = dataFrame_after_2024.drop([\"Labels\",\"Estado\",\n",
    "                   \"Data Emissão\",\"Data vencimento indicada\",\n",
    "                   \"Data entrada\",\"Origem\",\"Nº documento Fornecedor\",\n",
    "                   \"Nº Encomenda\",\"Âmbito de Compra\"], axis=1)\n",
    "\n",
    "dataFrame_after_2024['Fornecedor'] = label_encoder.fit_transform(dataFrame_after_2024['Fornecedor'])\n",
    "\n",
    "\n",
    "# fit model\n",
    "#model = RandomForestRegressor(n_estimators=estimators, random_state=42)\n",
    "model = RandomForestClassifier(n_estimators=100, random_state=42)\n",
    "model.fit(dataFrame_before_2024, encoded_labels_train)\n",
    "\n",
    "\n",
    "# Evaluate random forest regressor\n",
    "predictions = model.predict(dataFrame_after_2024)\n",
    "\n",
    "mae = mean_absolute_error(encoded_labels_test, predictions)\n",
    "print('Mean Absolute Error:', mae)\n",
    "\n",
    "\n",
    "# Calculate MSE\n",
    "mse = mean_squared_error(encoded_labels_test, predictions)\n",
    "print(f'Mean Squared Error (MSE): {mse}')\n",
    "\n",
    "# Calculate R-squared\n",
    "r2 = r2_score(encoded_labels_test, predictions)\n",
    "print(f'R-squared (R²): {r2}')\n",
    "\n",
    "\n",
    "# Calculate accuracy\n",
    "accuracy = sum(1 for true, pred in zip(encoded_labels_test, predictions) if true == pred) / len(encoded_labels_test)\n",
    "print(f'Accuracy: {accuracy * 100:.2f}%')\n"
   ]
  },
  {
   "cell_type": "code",
   "execution_count": 175,
   "metadata": {},
   "outputs": [
    {
     "data": {
      "text/html": [
       "<div>\n",
       "<style scoped>\n",
       "    .dataframe tbody tr th:only-of-type {\n",
       "        vertical-align: middle;\n",
       "    }\n",
       "\n",
       "    .dataframe tbody tr th {\n",
       "        vertical-align: top;\n",
       "    }\n",
       "\n",
       "    .dataframe thead th {\n",
       "        text-align: right;\n",
       "    }\n",
       "</style>\n",
       "<table border=\"1\" class=\"dataframe\">\n",
       "  <thead>\n",
       "    <tr style=\"text-align: right;\">\n",
       "      <th></th>\n",
       "      <th>Fornecedor</th>\n",
       "      <th>Valor com IVA</th>\n",
       "      <th>MonthEmissão</th>\n",
       "      <th>DayOfWeekEmissão</th>\n",
       "      <th>MonthEntrada</th>\n",
       "      <th>DayOfWeekEntrada</th>\n",
       "      <th>MonthVencimento</th>\n",
       "      <th>DayOfWeekVencimento</th>\n",
       "    </tr>\n",
       "  </thead>\n",
       "  <tbody>\n",
       "    <tr>\n",
       "      <th>5986</th>\n",
       "      <td>782</td>\n",
       "      <td>2332000.0</td>\n",
       "      <td>12</td>\n",
       "      <td>4</td>\n",
       "      <td>12</td>\n",
       "      <td>4</td>\n",
       "      <td>12</td>\n",
       "      <td>0</td>\n",
       "    </tr>\n",
       "    <tr>\n",
       "      <th>6646</th>\n",
       "      <td>609</td>\n",
       "      <td>26322.0</td>\n",
       "      <td>11</td>\n",
       "      <td>0</td>\n",
       "      <td>12</td>\n",
       "      <td>4</td>\n",
       "      <td>11</td>\n",
       "      <td>0</td>\n",
       "    </tr>\n",
       "    <tr>\n",
       "      <th>6647</th>\n",
       "      <td>664</td>\n",
       "      <td>354855.0</td>\n",
       "      <td>12</td>\n",
       "      <td>3</td>\n",
       "      <td>12</td>\n",
       "      <td>4</td>\n",
       "      <td>12</td>\n",
       "      <td>3</td>\n",
       "    </tr>\n",
       "    <tr>\n",
       "      <th>6648</th>\n",
       "      <td>354</td>\n",
       "      <td>41526.0</td>\n",
       "      <td>12</td>\n",
       "      <td>3</td>\n",
       "      <td>12</td>\n",
       "      <td>4</td>\n",
       "      <td>12</td>\n",
       "      <td>3</td>\n",
       "    </tr>\n",
       "    <tr>\n",
       "      <th>6649</th>\n",
       "      <td>45</td>\n",
       "      <td>12398.0</td>\n",
       "      <td>12</td>\n",
       "      <td>2</td>\n",
       "      <td>12</td>\n",
       "      <td>4</td>\n",
       "      <td>1</td>\n",
       "      <td>3</td>\n",
       "    </tr>\n",
       "    <tr>\n",
       "      <th>...</th>\n",
       "      <td>...</td>\n",
       "      <td>...</td>\n",
       "      <td>...</td>\n",
       "      <td>...</td>\n",
       "      <td>...</td>\n",
       "      <td>...</td>\n",
       "      <td>...</td>\n",
       "      <td>...</td>\n",
       "    </tr>\n",
       "    <tr>\n",
       "      <th>40687</th>\n",
       "      <td>492</td>\n",
       "      <td>155288.0</td>\n",
       "      <td>12</td>\n",
       "      <td>3</td>\n",
       "      <td>12</td>\n",
       "      <td>0</td>\n",
       "      <td>3</td>\n",
       "      <td>2</td>\n",
       "    </tr>\n",
       "    <tr>\n",
       "      <th>40688</th>\n",
       "      <td>492</td>\n",
       "      <td>14986.0</td>\n",
       "      <td>12</td>\n",
       "      <td>3</td>\n",
       "      <td>12</td>\n",
       "      <td>0</td>\n",
       "      <td>3</td>\n",
       "      <td>2</td>\n",
       "    </tr>\n",
       "    <tr>\n",
       "      <th>40689</th>\n",
       "      <td>268</td>\n",
       "      <td>27768.0</td>\n",
       "      <td>12</td>\n",
       "      <td>4</td>\n",
       "      <td>12</td>\n",
       "      <td>0</td>\n",
       "      <td>1</td>\n",
       "      <td>6</td>\n",
       "    </tr>\n",
       "    <tr>\n",
       "      <th>40691</th>\n",
       "      <td>268</td>\n",
       "      <td>555.0</td>\n",
       "      <td>12</td>\n",
       "      <td>4</td>\n",
       "      <td>12</td>\n",
       "      <td>0</td>\n",
       "      <td>1</td>\n",
       "      <td>6</td>\n",
       "    </tr>\n",
       "    <tr>\n",
       "      <th>40692</th>\n",
       "      <td>268</td>\n",
       "      <td>9720.0</td>\n",
       "      <td>12</td>\n",
       "      <td>4</td>\n",
       "      <td>12</td>\n",
       "      <td>0</td>\n",
       "      <td>1</td>\n",
       "      <td>6</td>\n",
       "    </tr>\n",
       "  </tbody>\n",
       "</table>\n",
       "<p>25692 rows × 8 columns</p>\n",
       "</div>"
      ],
      "text/plain": [
       "       Fornecedor  Valor com IVA  MonthEmissão  DayOfWeekEmissão  \\\n",
       "5986          782      2332000.0            12                 4   \n",
       "6646          609        26322.0            11                 0   \n",
       "6647          664       354855.0            12                 3   \n",
       "6648          354        41526.0            12                 3   \n",
       "6649           45        12398.0            12                 2   \n",
       "...           ...            ...           ...               ...   \n",
       "40687         492       155288.0            12                 3   \n",
       "40688         492        14986.0            12                 3   \n",
       "40689         268        27768.0            12                 4   \n",
       "40691         268          555.0            12                 4   \n",
       "40692         268         9720.0            12                 4   \n",
       "\n",
       "       MonthEntrada  DayOfWeekEntrada  MonthVencimento  DayOfWeekVencimento  \n",
       "5986             12                 4               12                    0  \n",
       "6646             12                 4               11                    0  \n",
       "6647             12                 4               12                    3  \n",
       "6648             12                 4               12                    3  \n",
       "6649             12                 4                1                    3  \n",
       "...             ...               ...              ...                  ...  \n",
       "40687            12                 0                3                    2  \n",
       "40688            12                 0                3                    2  \n",
       "40689            12                 0                1                    6  \n",
       "40691            12                 0                1                    6  \n",
       "40692            12                 0                1                    6  \n",
       "\n",
       "[25692 rows x 8 columns]"
      ]
     },
     "execution_count": 175,
     "metadata": {},
     "output_type": "execute_result"
    }
   ],
   "source": [
    "dataFrame_before_2024"
   ]
  },
  {
   "cell_type": "code",
   "execution_count": 160,
   "metadata": {},
   "outputs": [
    {
     "data": {
      "image/png": "[encoded data removed]",
      "text/plain": [
       "<Figure size 1000x600 with 1 Axes>"
      ]
     },
     "metadata": {},
     "output_type": "display_data"
    }
   ],
   "source": [
    "plt.figure(figsize=(10, 6))\n",
    "plt.scatter(encoded_labels_test, predictions, alpha=0.1)\n",
    "plt.xlabel('Actual Value of dataFrame')\n",
    "plt.ylabel('Predicted Value of dataFrame')\n",
    "plt.title('Actual vs Predicted Values of dataFrame')\n",
    "plt.grid(True)\n",
    "plt.tight_layout()\n",
    "plt.show()"
   ]
  },
  {
   "cell_type": "code",
   "execution_count": 161,
   "metadata": {},
   "outputs": [
    {
     "name": "stdout",
     "output_type": "stream",
     "text": [
      "Feature Importance:\n",
      "               Feature  Importance\n",
      "0           Fornecedor    0.403875\n",
      "1        Valor com IVA    0.263757\n",
      "7  DayOfWeekVencimento    0.061059\n",
      "5     DayOfWeekEntrada    0.059396\n",
      "3     DayOfWeekEmissão    0.056808\n",
      "4         MonthEntrada    0.054933\n",
      "6      MonthVencimento    0.052806\n",
      "2         MonthEmissão    0.047366\n"
     ]
    }
   ],
   "source": [
    "feature_importance = model.feature_importances_\n",
    "feature_names = dataFrame_before_2024.columns\n",
    "feature_importance_df = pd.DataFrame({'Feature': feature_names, 'Importance': feature_importance})\n",
    "feature_importance_df = feature_importance_df.sort_values(by='Importance', ascending=False)\n",
    "print('Feature Importance:')\n",
    "print(feature_importance_df)"
   ]
  },
  {
   "cell_type": "code",
   "execution_count": 162,
   "metadata": {},
   "outputs": [
    {
     "name": "stdout",
     "output_type": "stream",
     "text": [
      "Accuracy: 0.9083009798484009\n",
      "Classification Report:\n",
      "              precision    recall  f1-score   support\n",
      "\n",
      "           0       0.26      0.04      0.07       462\n",
      "           1       0.92      0.99      0.95      4947\n",
      "\n",
      "    accuracy                           0.91      5409\n",
      "   macro avg       0.59      0.52      0.51      5409\n",
      "weighted avg       0.86      0.91      0.88      5409\n",
      "\n"
     ]
    }
   ],
   "source": [
    "# Save the model to a file\n",
    "joblib.dump(model, 'random_forest_classifier.pkl')\n",
    "\n",
    "# Load the model from the file\n",
    "loaded_rfc = joblib.load('random_forest_classifier.pkl')\n",
    "\n",
    "# Make predictions on the test data using the loaded model\n",
    "y_pred = loaded_rfc.predict(dataFrame_after_2024)\n",
    "\n",
    "# Evaluate the loaded model\n",
    "accuracy = accuracy_score(encoded_labels_test, y_pred)\n",
    "report = classification_report(encoded_labels_test, y_pred)\n",
    "\n",
    "print(f\"Accuracy: {accuracy}\")\n",
    "print(\"Classification Report:\")\n",
    "print(report)"
   ]
  },
  {
   "cell_type": "markdown",
   "metadata": {},
   "source": [
    "# RFR NO TIMESPLIT"
   ]
  },
  {
   "cell_type": "code",
   "execution_count": 163,
   "metadata": {},
   "outputs": [],
   "source": [
    "# Load data \n",
    "dataFrame = pd.read_csv('digitalizações_registadas.csv',\n",
    "                       delimiter=\";\",\n",
    "                       date_format=\"\", \n",
    "                       parse_dates=['Data Emissão','Data vencimento indicada'])\n",
    "\n",
    "# Strip any leading or trailing whitespace from column names\n",
    "dataFrame.columns = dataFrame.columns.str.strip()\n",
    "\n",
    "# Get unnamed columns to remove\n",
    "unnamed_columns = [col for col in dataFrame.columns if col.startswith('Unnamed')]\n",
    "\n",
    "# Drop unnamed columns\n",
    "dataFrame = dataFrame.drop(columns=unnamed_columns)\n",
    "\n",
    "# Drop rows with any null values\n",
    "dataFrame = dataFrame.dropna(subset=['Data vencimento indicada','Data Emissão','Origem']) #'Contrato'\n",
    "# Drop specific row with date in year 221\n",
    "dataFrame = dataFrame[dataFrame['Nº documento Fornecedor'] != \"ZRF2 2/6001001951\"]\n",
    "\n",
    "dataFrame['Data Emissão'] = pd.to_datetime(dataFrame['Data Emissão'], format=\"%d/%m/%Y\")\n",
    "dataFrame['Data entrada'] = pd.to_datetime(dataFrame['Data entrada'], format=\"%d/%m/%Y\")\n",
    "dataFrame['Data vencimento indicada'] = pd.to_datetime(dataFrame['Data vencimento indicada'], format=\"%d/%m/%Y\")\n",
    "\n",
    "dataFrame['Valor com IVA'] = dataFrame['Valor com IVA'].str.replace(',', '').astype(float)\n",
    "#dataFrame = pd.get_dummies(dataFrame, columns=['Categoria'])"
   ]
  },
  {
   "cell_type": "code",
   "execution_count": 164,
   "metadata": {},
   "outputs": [],
   "source": [
    "dataFrame = dataFrame[dataFrame['Origem'] != \"Requisição\"]\n",
    "dataFrame['Labels'] = dataFrame['Origem']"
   ]
  },
  {
   "cell_type": "code",
   "execution_count": 165,
   "metadata": {},
   "outputs": [],
   "source": [
    "if do_label_same_size_sample:\n",
    "    grouped = dataFrame.groupby('Labels')\n",
    "    min_size = grouped.size().min()\n",
    "    dataFrame = grouped.apply(lambda x: x.sample(min_size)).reset_index(drop=True)"
   ]
  },
  {
   "cell_type": "code",
   "execution_count": 166,
   "metadata": {},
   "outputs": [],
   "source": [
    "# Feature Engineering\n",
    "dataFrame['MonthEmissão'] = dataFrame['Data Emissão'].dt.month\n",
    "dataFrame['DayOfWeekEmissão'] = dataFrame['Data Emissão'].dt.dayofweek\n",
    "\n",
    "dataFrame['MonthEntrada'] = dataFrame['Data entrada'].dt.month\n",
    "dataFrame['DayOfWeekEntrada'] = dataFrame['Data entrada'].dt.dayofweek\n",
    "\n",
    "dataFrame['MonthVencimento'] = dataFrame['Data vencimento indicada'].dt.month\n",
    "dataFrame['DayOfWeekVencimento'] = dataFrame['Data vencimento indicada'].dt.dayofweek"
   ]
  },
  {
   "cell_type": "code",
   "execution_count": 167,
   "metadata": {},
   "outputs": [],
   "source": [
    "seed = 42\n",
    "torch.manual_seed(seed)\n",
    "torch.cuda.manual_seed(seed) if torch.cuda.is_available() else None\n",
    "np.random.seed(seed)\n",
    "random.seed(seed)"
   ]
  },
  {
   "cell_type": "code",
   "execution_count": 173,
   "metadata": {},
   "outputs": [
    {
     "name": "stdout",
     "output_type": "stream",
     "text": [
      "Mean Absolute Error: 0.06574505706478058\n",
      "Mean Squared Error (MSE): 0.06574505706478058\n",
      "R-squared (R²): 0.39039613401567863\n",
      "Accuracy: 93.43%\n",
      "Accuracy SKlearn: 0.9342549429352194\n",
      "Classification Report:\n",
      "              precision    recall  f1-score   support\n",
      "\n",
      "           0       0.87      0.55      0.67       765\n",
      "           1       0.94      0.99      0.96      5456\n",
      "\n",
      "    accuracy                           0.93      6221\n",
      "   macro avg       0.90      0.77      0.82      6221\n",
      "weighted avg       0.93      0.93      0.93      6221\n",
      "\n"
     ]
    }
   ],
   "source": [
    "# Split the data into training and testing sets\n",
    "X = dataFrame.drop([\"Labels\",\"Estado\",\n",
    "                   \"Data Emissão\",\"Data vencimento indicada\",\n",
    "                   \"Data entrada\",\"Origem\",\"Nº documento Fornecedor\",\n",
    "                   \"Nº Encomenda\",\"Âmbito de Compra\"], axis=1)\n",
    "\n",
    "# Encode strings to integers\n",
    "label_encoder = LabelEncoder()\n",
    "X['Fornecedor'] = label_encoder.fit_transform(X['Fornecedor'])\n",
    "\n",
    "y = label_encoder.fit_transform(dataFrame['Labels'])\n",
    "X_train, X_test, y_train, y_test = train_test_split(X, y, test_size=0.2, random_state=42)\n",
    "\n",
    "# fit\n",
    "#model = RandomForestRegressor(n_estimators=estimators, random_state=42)\n",
    "model = RandomForestClassifier(n_estimators=100, random_state=42)\n",
    "model.fit(X_train, y_train)\n",
    "\n",
    "\n",
    "# #val\n",
    "predictions = model.predict(X_test)\n",
    "\n",
    "mae = mean_absolute_error(y_test, predictions)\n",
    "print('Mean Absolute Error:', mae)\n",
    "\n",
    "# Calculate MSE\n",
    "mse = mean_squared_error(y_test, predictions)\n",
    "print(f'Mean Squared Error (MSE): {mse}')\n",
    "\n",
    "# Calculate R-squared\n",
    "r2 = r2_score(y_test, predictions)\n",
    "print(f'R-squared (R²): {r2}')\n",
    "\n",
    "\n",
    "# Calculate accuracy\n",
    "accuracy = sum(1 for true, pred in zip(y_test, predictions) if true == pred) / len(y_test)\n",
    "print(f'Accuracy: {accuracy * 100:.2f}%')\n",
    "\n",
    "\n",
    "accuracy = accuracy_score(y_test, y_pred)\n",
    "report = classification_report(y_test, y_pred)\n",
    "\n",
    "print(f\"Accuracy SKlearn: {accuracy}\")\n",
    "print(\"Classification Report:\")\n",
    "print(report)"
   ]
  },
  {
   "cell_type": "code",
   "execution_count": 169,
   "metadata": {},
   "outputs": [
    {
     "data": {
      "image/png": "[encoded data removed]",
      "text/plain": [
       "<Figure size 1000x600 with 1 Axes>"
      ]
     },
     "metadata": {},
     "output_type": "display_data"
    }
   ],
   "source": [
    "plt.figure(figsize=(10, 6))\n",
    "plt.scatter(y_test, predictions, alpha=0.01)\n",
    "plt.xlabel('Actual Value of dataFrame')\n",
    "plt.ylabel('Predicted Value of dataFrame')\n",
    "plt.title('Actual vs Predicted Values of dataFrame')\n",
    "plt.grid(True)\n",
    "plt.tight_layout()\n",
    "plt.show()"
   ]
  },
  {
   "cell_type": "code",
   "execution_count": 170,
   "metadata": {},
   "outputs": [
    {
     "data": {
      "image/png": "[encoded data removed]",
      "text/plain": [
       "<Figure size 1000x600 with 1 Axes>"
      ]
     },
     "metadata": {},
     "output_type": "display_data"
    }
   ],
   "source": [
    "residuals = y_test - predictions\n",
    "plt.figure(figsize=(10, 6))\n",
    "plt.scatter(predictions, residuals, alpha=0.5)\n",
    "plt.xlabel('Predicted Value of dataFrame')\n",
    "plt.ylabel('Residuals')\n",
    "plt.title('Residual Plot')\n",
    "plt.axhline(y=0, color='r', linestyle='--')\n",
    "plt.grid(True)\n",
    "plt.show()"
   ]
  },
  {
   "cell_type": "code",
   "execution_count": 171,
   "metadata": {},
   "outputs": [
    {
     "name": "stdout",
     "output_type": "stream",
     "text": [
      "Feature Importance:\n",
      "               Feature  Importance\n",
      "0           Fornecedor    0.390613\n",
      "1        Valor com IVA    0.266665\n",
      "7  DayOfWeekVencimento    0.064244\n",
      "3     DayOfWeekEmissão    0.060305\n",
      "5     DayOfWeekEntrada    0.058501\n",
      "4         MonthEntrada    0.056215\n",
      "6      MonthVencimento    0.055987\n",
      "2         MonthEmissão    0.047469\n"
     ]
    }
   ],
   "source": [
    "feature_importance = model.feature_importances_\n",
    "feature_names = X.columns\n",
    "feature_importance_df = pd.DataFrame({'Feature': feature_names, 'Importance': feature_importance})\n",
    "feature_importance_df = feature_importance_df.sort_values(by='Importance', ascending=False)\n",
    "print('Feature Importance:')\n",
    "print(feature_importance_df)"
   ]
  },
  {
   "cell_type": "code",
   "execution_count": 174,
   "metadata": {},
   "outputs": [
    {
     "name": "stdout",
     "output_type": "stream",
     "text": [
      "Mean Absolute Error: 0.06574505706478058\n",
      "Mean Squared Error (MSE): 0.06574505706478058\n",
      "R-squared (R²): 0.39039613401567863\n",
      "Accuracy: 0.9342549429352194\n",
      "Classification Report:\n",
      "              precision    recall  f1-score   support\n",
      "\n",
      "           0       0.87      0.55      0.67       765\n",
      "           1       0.94      0.99      0.96      5456\n",
      "\n",
      "    accuracy                           0.93      6221\n",
      "   macro avg       0.90      0.77      0.82      6221\n",
      "weighted avg       0.93      0.93      0.93      6221\n",
      "\n"
     ]
    }
   ],
   "source": [
    "# Save the model to a file\n",
    "joblib.dump(model, 'random_forest_classifier.pkl')\n",
    "\n",
    "# Load the model from the file\n",
    "loaded_rfc = joblib.load('random_forest_classifier.pkl')\n",
    "\n",
    "# Make predictions on the test data using the loaded model\n",
    "y_pred = loaded_rfc.predict(X_test)\n",
    "\n",
    "# Evaluate the loaded model\n",
    "accuracy = accuracy_score(y_test, y_pred)\n",
    "report = classification_report(y_test, y_pred)\n",
    "\n",
    "mae = mean_absolute_error(y_test, predictions)\n",
    "print('Mean Absolute Error:', mae)\n",
    "\n",
    "# Calculate MSE\n",
    "mse = mean_squared_error(y_test, predictions)\n",
    "print(f'Mean Squared Error (MSE): {mse}')\n",
    "\n",
    "# Calculate R-squared\n",
    "r2 = r2_score(y_test, predictions)\n",
    "print(f'R-squared (R²): {r2}')\n",
    "\n",
    "print(f\"Accuracy: {accuracy}\")\n",
    "print(\"Classification Report:\")\n",
    "print(report)"
   ]
  },
  {
   "cell_type": "code",
   "execution_count": null,
   "metadata": {},
   "outputs": [],
   "source": [
    "# Making predictions (you can input your own data here)\n",
    "new_data = pd.DataFrame({\n",
    "    'Categoria_Custos': [False],\n",
    "    'Categoria_Investimentos': [False],\n",
    "    'Categoria_Proveitos': [False],\n",
    "    'Categoria_Salários': [False],\n",
    "    'Month': [6],\n",
    "    'DayOfWeek': [1]\n",
    "})\n",
    "prediction = model.predict(new_data)\n",
    "print('Predicted Value:', prediction[0])"
   ]
  }
 ],
 "metadata": {
  "kernelspec": {
   "display_name": "machinelearning",
   "language": "python",
   "name": "python3"
  },
  "language_info": {
   "codemirror_mode": {
    "name": "ipython",
    "version": 3
   },
   "file_extension": ".py",
   "mimetype": "text/x-python",
   "name": "python",
   "nbconvert_exporter": "python",
   "pygments_lexer": "ipython3",
   "version": "3.11.7"
  }
 },
 "nbformat": 4,
 "nbformat_minor": 2
}
