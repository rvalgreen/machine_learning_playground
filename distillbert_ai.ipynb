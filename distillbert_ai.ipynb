{
 "cells": [
  {
   "cell_type": "code",
   "execution_count": 22,
   "metadata": {},
   "outputs": [],
   "source": [
    "import pandas as pd\n",
    "import torch\n",
    "from torch import nn\n",
    "from sklearn.model_selection import train_test_split\n",
    "from transformers import BertTokenizer, BertForSequenceClassification, AdamW,DataCollatorWithPadding, AutoTokenizer\n",
    "from torch.utils.data import TensorDataset, DataLoader, RandomSampler, SequentialSampler\n",
    "from sklearn.metrics import classification_report\n",
    "from torch.utils.data import DataLoader, Dataset\n",
    "from transformers import DistilBertTokenizer, BertTokenizer, DistilBertForSequenceClassification, Trainer, TrainingArguments,AutoModelForSequenceClassification\n",
    "from sklearn.model_selection import train_test_split\n",
    "from datasets import Dataset as HFDataset, load_metric\n",
    "from datasets import load_dataset\n",
    "import numpy as np\n",
    "import random\n",
    "from sklearn.preprocessing import LabelEncoder\n",
    "import wandb\n",
    "import matplotlib.pyplot as plt\n",
    "from sklearn.metrics import confusion_matrix, ConfusionMatrixDisplay"
   ]
  },
  {
   "cell_type": "code",
   "execution_count": 23,
   "metadata": {},
   "outputs": [
    {
     "data": {
      "text/plain": [
       "True"
      ]
     },
     "execution_count": 23,
     "metadata": {},
     "output_type": "execute_result"
    }
   ],
   "source": [
    "wandb.login()"
   ]
  },
  {
   "cell_type": "code",
   "execution_count": 24,
   "metadata": {},
   "outputs": [],
   "source": [
    "# Set seed for reproducibility\n",
    "seed = 42\n",
    "torch.manual_seed(seed)\n",
    "torch.cuda.manual_seed(seed) if torch.cuda.is_available() else None\n",
    "np.random.seed(seed)\n",
    "random.seed(seed)"
   ]
  },
  {
   "cell_type": "code",
   "execution_count": 25,
   "metadata": {},
   "outputs": [],
   "source": [
    "# Create a custom PyTorch Dataset\n",
    "class EncodedDataset(Dataset):\n",
    "    def __init__(self, encodings, labels):\n",
    "        self.encodings = encodings\n",
    "        self.labels = labels\n",
    "\n",
    "    def __len__(self):\n",
    "        return len(self.labels)\n",
    "\n",
    "    def __getitem__(self, idx):\n",
    "        item = {key: val[idx] for key, val in self.encodings.items()}\n",
    "        item['labels'] = torch.tensor(self.labels[idx], dtype=torch.long)\n",
    "        return item"
   ]
  },
  {
   "cell_type": "code",
   "execution_count": 26,
   "metadata": {},
   "outputs": [],
   "source": [
    "from torch.optim import RAdam, AdamW\n",
    "from transformers import get_linear_schedule_with_warmup, get_cosine_schedule_with_warmup, \\\n",
    "    get_cosine_with_hard_restarts_schedule_with_warmup, get_constant_schedule_with_warmup\n",
    "\n",
    "# Choose optimizer and learning rate scheduler\n",
    "def getOptimizer(model, total_train_steps, scheduler_type=\"linear\",\n",
    "                  lr=1e-4, weight_decay=0.01, warmup_steps=0):\n",
    "    \n",
    "    optimizer = AdamW(params=model.parameters(), lr=float(lr), weight_decay=weight_decay)\n",
    "    \n",
    "    if scheduler_type == \"linear\":\n",
    "        lr_scheduler = get_linear_schedule_with_warmup(\n",
    "            optimizer=optimizer,\n",
    "            num_warmup_steps=warmup_steps,\n",
    "            num_training_steps=total_train_steps\n",
    "        )\n",
    "    elif scheduler_type == \"cosine\":\n",
    "        lr_scheduler = get_cosine_schedule_with_warmup(\n",
    "            optimizer=optimizer,\n",
    "            num_warmup_steps=warmup_steps,\n",
    "            num_training_steps=total_train_steps\n",
    "        )\n",
    "    else:\n",
    "        lr_scheduler = get_constant_schedule_with_warmup(\n",
    "            optimizer=optimizer,\n",
    "            num_warmup_steps=warmup_steps\n",
    "        )\n",
    "\n",
    "    return optimizer, lr_scheduler"
   ]
  },
  {
   "cell_type": "code",
   "execution_count": 27,
   "metadata": {},
   "outputs": [],
   "source": [
    "do_label_same_size_sample = False\n",
    "predict_only_one = False\n",
    "label_to_avoid_predict = \"Contrato\""
   ]
  },
  {
   "cell_type": "markdown",
   "metadata": {},
   "source": [
    "# DISTILLBERT TIMESPLIT"
   ]
  },
  {
   "cell_type": "code",
   "execution_count": 28,
   "metadata": {},
   "outputs": [],
   "source": [
    "# Load data \n",
    "dataFrame = pd.read_csv('digitalizações_registadas.csv', \n",
    "                       delimiter=\";\",\n",
    "                       date_format=\"\", \n",
    "                       parse_dates=['Data Emissão','Data vencimento indicada',\"Data entrada\"]) \n",
    "\n",
    "# Strip any leading or trailing whitespace from column names\n",
    "dataFrame.columns = dataFrame.columns.str.strip()\n",
    "\n",
    "# Get unnamed columns to remove\n",
    "unnamed_columns = [col for col in dataFrame.columns if col.startswith('Unnamed')]\n",
    "\n",
    "# Drop unnamed columns\n",
    "dataFrame = dataFrame.drop(columns=unnamed_columns)\n",
    "\n",
    "# Drop rows with any null values\n",
    "dataFrame = dataFrame.dropna(subset=['Data vencimento indicada','Data Emissão','Origem']) #'Contrato'\n",
    "\n",
    "# Convert columns to date type\n",
    "dataFrame['Data entrada'] = pd.to_datetime(dataFrame['Data entrada'], format=\"%d/%m/%Y\")\n",
    "#dataFrame['Data Emissão'] = pd.to_datetime(dataFrame['Data Emissão'], format=\"%d/%m/%Y\")\n",
    "#dataFrame['Data vencimento indicada'] = pd.to_datetime(dataFrame['Data vencimento indicada'], format=\"%d/%m/%Y\")\n",
    "\n"
   ]
  },
  {
   "cell_type": "code",
   "execution_count": 29,
   "metadata": {},
   "outputs": [],
   "source": [
    "# Since we only want to predict Contrato or Manual, we discard rows with Requisição\n",
    "dataFrame = dataFrame[dataFrame['Origem'] != \"Requisição\"]\n",
    "\n",
    "# Set Labels column (this is unecessary as we can use Origem - but good for readability)\n",
    "dataFrame['Labels'] = dataFrame['Origem']"
   ]
  },
  {
   "cell_type": "code",
   "execution_count": 30,
   "metadata": {},
   "outputs": [],
   "source": [
    "if do_label_same_size_sample:\n",
    "    grouped = dataFrame.groupby('Labels')\n",
    "    min_size = grouped.size().min()\n",
    "    dataFrame = grouped.apply(lambda x: x.sample(min_size)).reset_index(drop=True)"
   ]
  },
  {
   "cell_type": "code",
   "execution_count": 31,
   "metadata": {},
   "outputs": [],
   "source": [
    "feature_columns = [\"Fornecedor\",\"Data Emissão\",\"Data entrada\",\"Data vencimento indicada\", \"Valor com IVA\"]\n",
    "# Function to format the row data\n",
    "def format_row(row, feature_columns, dataframe):\n",
    "    parts = []\n",
    "    for column in feature_columns:\n",
    "        value = row[column]\n",
    "        if pd.api.types.is_datetime64_any_dtype(dataframe[column]):\n",
    "            value = value.strftime('%d/%m/%Y')\n",
    "        parts.append(f\"{column}: {value}\")\n",
    "    return '\\n '.join(parts) + \"\\n\"\n",
    "\n",
    "\n",
    "def buildDocRepresentation(dataframe, feature_columns):\n",
    "    dataframe['FullText'] = dataframe.apply(lambda row: format_row(row, feature_columns, dataframe), axis = 1)\n",
    "\n",
    "\n",
    "buildDocRepresentation(dataFrame, feature_columns)"
   ]
  },
  {
   "cell_type": "code",
   "execution_count": 32,
   "metadata": {},
   "outputs": [],
   "source": [
    "# Build column with doc text representation\n",
    "dataFrame['FullText'] = (\n",
    "\"Fornecedor:\"+dataFrame['Fornecedor'] \n",
    "+ '\\n Data emissão:' + dataFrame['Data Emissão']  \n",
    "+ '\\n Data entrada:' + dataFrame['Data entrada'].dt.strftime('%d/%m/%Y')\n",
    "+ '\\n Data vencimento:' + dataFrame['Data vencimento indicada']\n",
    "+ \"\\n Valor com IVA:\"+dataFrame[\"Valor com IVA\"]\n",
    "+ \"\\n\"\n",
    ")"
   ]
  },
  {
   "cell_type": "code",
   "execution_count": 33,
   "metadata": {},
   "outputs": [],
   "source": [
    "# Init label encoder\n",
    "label_encoder = LabelEncoder()\n",
    "\n",
    "# Perform timesplit - we train on older samples and test on recent ones\n",
    "dataFrame_before_2024 = dataFrame[dataFrame['Data entrada'] < '2024-02-01']\n",
    "dataFrame_after_2024 = dataFrame[dataFrame['Data entrada'] >= '2024-02-01']\n",
    "\n",
    "if predict_only_one:\n",
    "    dataFrame_after_2024 = dataFrame_after_2024[dataFrame_after_2024['Labels'] != label_to_avoid_predict]\n",
    "\n",
    "\n",
    "# Especify what is train/test for readability\n",
    "train_texts = dataFrame_before_2024['FullText'].tolist()\n",
    "test_texts = dataFrame_after_2024['FullText'].tolist()\n",
    "train_labels = dataFrame_before_2024['Labels'].tolist()\n",
    "test_labels = dataFrame_after_2024['Labels'].tolist()\n",
    "\n",
    "# Encode labels - model cant take actual text - we need to encode text to numbers\n",
    "encoded_labels_train = label_encoder.fit_transform(train_labels)\n",
    "encoded_labels_test = label_encoder.fit_transform(test_labels)"
   ]
  },
  {
   "cell_type": "code",
   "execution_count": 34,
   "metadata": {},
   "outputs": [
    {
     "name": "stdout",
     "output_type": "stream",
     "text": [
      "3415\n",
      "23323\n"
     ]
    }
   ],
   "source": [
    "# Count Contrato rows and Manual rows\n",
    "count_contrato = dataFrame_before_2024['Labels'].value_counts().get('Contrato', 0)\n",
    "count_manual = dataFrame_before_2024['Labels'].value_counts().get('Manual', 0)\n",
    "print(count_contrato)\n",
    "print(count_manual)"
   ]
  },
  {
   "cell_type": "code",
   "execution_count": 35,
   "metadata": {},
   "outputs": [
    {
     "data": {
      "text/plain": [
       "['Contrato', 'Manual']"
      ]
     },
     "execution_count": 35,
     "metadata": {},
     "output_type": "execute_result"
    }
   ],
   "source": [
    "# Check classes/labels\n",
    "list(label_encoder.classes_)"
   ]
  },
  {
   "cell_type": "code",
   "execution_count": 36,
   "metadata": {},
   "outputs": [
    {
     "name": "stderr",
     "output_type": "stream",
     "text": [
      "loading file vocab.txt from cache at /Users/rvlopes/.cache/huggingface/hub/models--distilbert-base-uncased/snapshots/12040accade4e8a0f71eabdb258fecc2e7e948be/vocab.txt\n",
      "loading file added_tokens.json from cache at None\n",
      "loading file special_tokens_map.json from cache at None\n",
      "loading file tokenizer_config.json from cache at /Users/rvlopes/.cache/huggingface/hub/models--distilbert-base-uncased/snapshots/12040accade4e8a0f71eabdb258fecc2e7e948be/tokenizer_config.json\n",
      "loading configuration file config.json from cache at /Users/rvlopes/.cache/huggingface/hub/models--distilbert-base-uncased/snapshots/12040accade4e8a0f71eabdb258fecc2e7e948be/config.json\n",
      "Model config DistilBertConfig {\n",
      "  \"_name_or_path\": \"distilbert-base-uncased\",\n",
      "  \"activation\": \"gelu\",\n",
      "  \"architectures\": [\n",
      "    \"DistilBertForMaskedLM\"\n",
      "  ],\n",
      "  \"attention_dropout\": 0.1,\n",
      "  \"dim\": 768,\n",
      "  \"dropout\": 0.1,\n",
      "  \"hidden_dim\": 3072,\n",
      "  \"initializer_range\": 0.02,\n",
      "  \"max_position_embeddings\": 512,\n",
      "  \"model_type\": \"distilbert\",\n",
      "  \"n_heads\": 12,\n",
      "  \"n_layers\": 6,\n",
      "  \"pad_token_id\": 0,\n",
      "  \"qa_dropout\": 0.1,\n",
      "  \"seq_classif_dropout\": 0.2,\n",
      "  \"sinusoidal_pos_embds\": false,\n",
      "  \"tie_weights_\": true,\n",
      "  \"transformers_version\": \"4.23.0\",\n",
      "  \"vocab_size\": 30522\n",
      "}\n",
      "\n"
     ]
    }
   ],
   "source": [
    "# Initialize our tokenizer - SHOULD MATCH OUR CHOSEN MODEL!\n",
    "tokenizer = DistilBertTokenizer.from_pretrained('distilbert-base-uncased')\n",
    "\n",
    "# Add special tokens if necessary: in this case we add a PAD token\n",
    "# to pad our input bc they must have the same length\n",
    "special_tokens_dict = {\"pad_token\": \"<PAD>\"}\n",
    "if tokenizer.pad_token is None:\n",
    "    tokenizer.add_special_tokens(special_tokens_dict)"
   ]
  },
  {
   "cell_type": "code",
   "execution_count": 37,
   "metadata": {},
   "outputs": [],
   "source": [
    "# Encode our document text representations\n",
    "encodings_train = tokenizer(train_texts, truncation=True, padding=True, max_length=128 )\n",
    "encodings_test = tokenizer(test_texts, truncation=True, padding=True, max_length=128 )"
   ]
  },
  {
   "cell_type": "code",
   "execution_count": 38,
   "metadata": {},
   "outputs": [],
   "source": [
    "# Initialize our encoded pytorch datasets\n",
    "train_dataset = EncodedDataset({'input_ids': encodings_train['input_ids'], \n",
    "                                'attention_mask': encodings_train['attention_mask']}, \n",
    "                                encoded_labels_train)\n",
    "\n",
    "val_dataset = EncodedDataset({'input_ids': encodings_test['input_ids'],\n",
    "                               'attention_mask': encodings_test['attention_mask']},\n",
    "                                 encoded_labels_test)"
   ]
  },
  {
   "cell_type": "code",
   "execution_count": 39,
   "metadata": {},
   "outputs": [],
   "source": [
    "# Initialize DataLoaders - responsible for building and preparing the batches\n",
    "data_collator = DataCollatorWithPadding(tokenizer=tokenizer)\n",
    "train_loader = DataLoader(train_dataset, batch_size=32, shuffle=True, collate_fn=data_collator)\n",
    "val_loader = DataLoader(val_dataset, batch_size=32, shuffle=False, collate_fn=data_collator)"
   ]
  },
  {
   "cell_type": "code",
   "execution_count": 40,
   "metadata": {},
   "outputs": [],
   "source": [
    "configs = [\n",
    "    {\n",
    "    \"runName\":\"distillbert-mps-timesplit\",\n",
    "    \"lr\":1e-4,\n",
    "    \"epochs\":1,\n",
    "    \"weight_decay\":0.01,\n",
    "    \"save\":False,\n",
    "    \"scheduler_type\":\"cosine\",\n",
    "    \"warmup_steps\":100\n",
    "    },   \n",
    "]"
   ]
  },
  {
   "cell_type": "code",
   "execution_count": 41,
   "metadata": {},
   "outputs": [
    {
     "name": "stderr",
     "output_type": "stream",
     "text": [
      "loading configuration file config.json from cache at /Users/rvlopes/.cache/huggingface/hub/models--distilbert-base-uncased/snapshots/12040accade4e8a0f71eabdb258fecc2e7e948be/config.json\n",
      "Model config DistilBertConfig {\n",
      "  \"activation\": \"gelu\",\n",
      "  \"architectures\": [\n",
      "    \"DistilBertForMaskedLM\"\n",
      "  ],\n",
      "  \"attention_dropout\": 0.1,\n",
      "  \"dim\": 768,\n",
      "  \"dropout\": 0.1,\n",
      "  \"hidden_dim\": 3072,\n",
      "  \"initializer_range\": 0.02,\n",
      "  \"max_position_embeddings\": 512,\n",
      "  \"model_type\": \"distilbert\",\n",
      "  \"n_heads\": 12,\n",
      "  \"n_layers\": 6,\n",
      "  \"pad_token_id\": 0,\n",
      "  \"qa_dropout\": 0.1,\n",
      "  \"seq_classif_dropout\": 0.2,\n",
      "  \"sinusoidal_pos_embds\": false,\n",
      "  \"tie_weights_\": true,\n",
      "  \"transformers_version\": \"4.23.0\",\n",
      "  \"vocab_size\": 30522\n",
      "}\n",
      "\n",
      "loading weights file model.safetensors from cache at /Users/rvlopes/.cache/huggingface/hub/models--distilbert-base-uncased/snapshots/12040accade4e8a0f71eabdb258fecc2e7e948be/model.safetensors\n",
      "Some weights of the model checkpoint at distilbert-base-uncased were not used when initializing DistilBertForSequenceClassification: ['vocab_layer_norm.weight', 'vocab_transform.bias', 'vocab_projector.bias', 'vocab_transform.weight', 'vocab_layer_norm.bias']\n",
      "- This IS expected if you are initializing DistilBertForSequenceClassification from the checkpoint of a model trained on another task or with another architecture (e.g. initializing a BertForSequenceClassification model from a BertForPreTraining model).\n",
      "- This IS NOT expected if you are initializing DistilBertForSequenceClassification from the checkpoint of a model that you expect to be exactly identical (initializing a BertForSequenceClassification model from a BertForSequenceClassification model).\n",
      "Some weights of DistilBertForSequenceClassification were not initialized from the model checkpoint at distilbert-base-uncased and are newly initialized: ['pre_classifier.weight', 'classifier.weight', 'pre_classifier.bias', 'classifier.bias']\n",
      "You should probably TRAIN this model on a down-stream task to be able to use it for predictions and inference.\n"
     ]
    },
    {
     "data": {
      "text/html": [
       "wandb version 0.17.3 is available!  To upgrade, please run:\n",
       " $ pip install wandb --upgrade"
      ],
      "text/plain": [
       "<IPython.core.display.HTML object>"
      ]
     },
     "metadata": {},
     "output_type": "display_data"
    },
    {
     "data": {
      "text/html": [
       "Tracking run with wandb version 0.17.2"
      ],
      "text/plain": [
       "<IPython.core.display.HTML object>"
      ]
     },
     "metadata": {},
     "output_type": "display_data"
    },
    {
     "data": {
      "text/html": [
       "Run data is saved locally in <code>/Users/rvlopes/CoB/machine_learning_playground/wandb/run-20240625_120418-himapyg5</code>"
      ],
      "text/plain": [
       "<IPython.core.display.HTML object>"
      ]
     },
     "metadata": {},
     "output_type": "display_data"
    },
    {
     "data": {
      "text/html": [
       "Syncing run <strong><a href='https://wandb.ai/rvlopes/cob-demo/runs/himapyg5' target=\"_blank\">experiment_distillbert-mps-timesplit</a></strong> to <a href='https://wandb.ai/rvlopes/cob-demo' target=\"_blank\">Weights & Biases</a> (<a href='https://wandb.me/run' target=\"_blank\">docs</a>)<br/>"
      ],
      "text/plain": [
       "<IPython.core.display.HTML object>"
      ]
     },
     "metadata": {},
     "output_type": "display_data"
    },
    {
     "data": {
      "text/html": [
       " View project at <a href='https://wandb.ai/rvlopes/cob-demo' target=\"_blank\">https://wandb.ai/rvlopes/cob-demo</a>"
      ],
      "text/plain": [
       "<IPython.core.display.HTML object>"
      ]
     },
     "metadata": {},
     "output_type": "display_data"
    },
    {
     "data": {
      "text/html": [
       " View run at <a href='https://wandb.ai/rvlopes/cob-demo/runs/himapyg5' target=\"_blank\">https://wandb.ai/rvlopes/cob-demo/runs/himapyg5</a>"
      ],
      "text/plain": [
       "<IPython.core.display.HTML object>"
      ]
     },
     "metadata": {},
     "output_type": "display_data"
    },
    {
     "name": "stdout",
     "output_type": "stream",
     "text": [
      "Run: distillbert-mps-timesplit   |Epoch 1, Train Loss: 0.17548540096983992\n",
      "Validation Loss: 0.1847387985530289, Accuracy: 93.30889092575619%\n",
      "Classification Report:\n",
      "{'0': {'precision': 0.5941043083900227, 'recall': 0.6986666666666667, 'f1-score': 0.6421568627450981, 'support': 375.0}, '1': {'precision': 0.9711955136375223, 'recall': 0.9551265981448984, 'f1-score': 0.9630940343781598, 'support': 3989.0}, 'accuracy': 0.9330889092575618, 'macro avg': {'precision': 0.7826499110137726, 'recall': 0.8268966324057825, 'f1-score': 0.8026254485616289, 'support': 4364.0}, 'weighted avg': {'precision': 0.9387919384844948, 'recall': 0.9330889092575618, 'f1-score': 0.9355157943776102, 'support': 4364.0}}\n"
     ]
    },
    {
     "data": {
      "application/vnd.jupyter.widget-view+json": {
       "model_id": "82388491c1d44d759d6bac6b26b8b582",
       "version_major": 2,
       "version_minor": 0
      },
      "text/plain": [
       "VBox(children=(Label(value='0.001 MB of 0.028 MB uploaded\\r'), FloatProgress(value=0.03458980044345898, max=1.…"
      ]
     },
     "metadata": {},
     "output_type": "display_data"
    },
    {
     "data": {
      "text/html": [
       "<style>\n",
       "    table.wandb td:nth-child(1) { padding: 0 10px; text-align: left ; width: auto;} td:nth-child(2) {text-align: left ; width: 100%}\n",
       "    .wandb-row { display: flex; flex-direction: row; flex-wrap: wrap; justify-content: flex-start; width: 100% }\n",
       "    .wandb-col { display: flex; flex-direction: column; flex-basis: 100%; flex: 1; padding: 10px; }\n",
       "    </style>\n",
       "<div class=\"wandb-row\"><div class=\"wandb-col\"><h3>Run history:</h3><br/><table class=\"wandb\"><tr><td>learning_rate</td><td>▂▃▄▅▇██████▇▇▇▇▇▆▆▆▅▅▅▄▄▄▃▃▃▃▂▂▂▂▂▁▁▁▁▁▁</td></tr><tr><td>loss</td><td>█▄▅▅▇▄▃▂▄▁▂▂▁▂▁▂▂▃▂▄▃▂▂▂▂▁▂▁▁▁▂▃▂▂▂▂▂▃▁▁</td></tr><tr><td>step</td><td>▁▁▁▁▂▂▂▂▂▃▃▃▃▃▃▄▄▄▄▄▅▅▅▅▅▅▆▆▆▆▆▇▇▇▇▇▇███</td></tr></table><br/></div><div class=\"wandb-col\"><h3>Run summary:</h3><br/><table class=\"wandb\"><tr><td>learning_rate</td><td>0.0</td></tr><tr><td>loss</td><td>0.10013</td></tr><tr><td>step</td><td>836</td></tr></table><br/></div></div>"
      ],
      "text/plain": [
       "<IPython.core.display.HTML object>"
      ]
     },
     "metadata": {},
     "output_type": "display_data"
    },
    {
     "data": {
      "text/html": [
       " View run <strong style=\"color:#cdcd00\">experiment_distillbert-mps-timesplit</strong> at: <a href='https://wandb.ai/rvlopes/cob-demo/runs/himapyg5' target=\"_blank\">https://wandb.ai/rvlopes/cob-demo/runs/himapyg5</a><br/> View project at: <a href='https://wandb.ai/rvlopes/cob-demo' target=\"_blank\">https://wandb.ai/rvlopes/cob-demo</a><br/>Synced 6 W&B file(s), 0 media file(s), 0 artifact file(s) and 0 other file(s)"
      ],
      "text/plain": [
       "<IPython.core.display.HTML object>"
      ]
     },
     "metadata": {},
     "output_type": "display_data"
    },
    {
     "data": {
      "text/html": [
       "Find logs at: <code>./wandb/run-20240625_120418-himapyg5/logs</code>"
      ],
      "text/plain": [
       "<IPython.core.display.HTML object>"
      ]
     },
     "metadata": {},
     "output_type": "display_data"
    },
    {
     "data": {
      "text/html": [
       "The new W&B backend becomes opt-out in version 0.18.0; try it out with `wandb.require(\"core\")`! See https://wandb.me/wandb-core for more information."
      ],
      "text/plain": [
       "<IPython.core.display.HTML object>"
      ]
     },
     "metadata": {},
     "output_type": "display_data"
    }
   ],
   "source": [
    "for conf in configs:\n",
    "    # Instantiate the model\n",
    "    model = DistilBertForSequenceClassification.from_pretrained('distilbert-base-uncased', num_labels=len(label_encoder.classes_))  # Adjust num_labels as needed\n",
    "\n",
    "    # move model to device\n",
    "    device = torch.device(\"mps\" if torch.backends.mps.is_available() else \"cpu\")\n",
    "    model.to(device)\n",
    "\n",
    "    # Calculate total train steps for scheduler\n",
    "    num_training_steps = len(train_loader) * conf['epochs']\n",
    "\n",
    "    # Init optimizer and scheduler\n",
    "    optimizer, scheduler = getOptimizer(model, num_training_steps, scheduler_type=conf['scheduler_type'],\n",
    "                                        lr=conf['lr'], weight_decay=conf['weight_decay'],\n",
    "                                        warmup_steps=conf['warmup_steps'])\n",
    "\n",
    "    # Define the loss function\n",
    "    criterion = torch.nn.CrossEntropyLoss()\n",
    "\n",
    "    # Training loop\n",
    "    model.train()\n",
    "    train_losses = []\n",
    "    steps = 0\n",
    "\n",
    "    # Wandb init conf\n",
    "    runName = f\"experiment_{conf['runName']}\"\n",
    "    run = wandb.init(\n",
    "        project=\"cob-demo\",\n",
    "        name=runName, \n",
    "        config={\n",
    "            \"learning_rate\": conf['lr'],\n",
    "            \"epochs\": conf['epochs'],\n",
    "            \"weight_decay\":conf['weight_decay'],\n",
    "            \"scheduler_type\":conf['scheduler_type'],\n",
    "            \"warmup_steps\":conf['warmup_steps']\n",
    "        },\n",
    "    )\n",
    "\n",
    "    # Train model\n",
    "    for epoch in range(conf['epochs']):\n",
    "        epoch_train_loss = 0.0\n",
    "        for batch in train_loader:\n",
    "            steps += 1\n",
    "\n",
    "            # get inputs\n",
    "            input_ids = batch['input_ids'].to(device)\n",
    "            attention_mask = batch['attention_mask'].to(device)\n",
    "            labels = batch['labels'].to(device)\n",
    "            # forward inputs through model\n",
    "            outputs = model(input_ids, attention_mask)\n",
    "            # calculate loss\n",
    "            loss = criterion(outputs.logits, labels)\n",
    "            # perform backward pass\n",
    "            loss.backward()\n",
    "            optimizer.step()\n",
    "            scheduler.step()\n",
    "            optimizer.zero_grad()\n",
    "\n",
    "            epoch_train_loss += loss.item()\n",
    "            wandb.log({\"loss\": loss.item(), \"step\":steps, \"learning_rate\":scheduler.get_last_lr()[0]})\n",
    "\n",
    "\n",
    "        # Calculate average training loss for the epoch\n",
    "        epoch_train_loss /= len(train_loader)\n",
    "        train_losses.append(epoch_train_loss)\n",
    "        \n",
    "        print(f\"Run: {conf['runName']}   |Epoch {epoch + 1}, Train Loss: {epoch_train_loss}\")\n",
    "\n",
    "\n",
    "    # Evaluate model\n",
    "    model.eval()\n",
    "    val_loss = 0.0\n",
    "    correct = 0\n",
    "    total = 0\n",
    "    val_losses = []\n",
    "    val_accuracies = []\n",
    "    y_true = []\n",
    "    y_pred = []\n",
    "    with torch.no_grad():\n",
    "        for batch in val_loader:\n",
    "            input_ids = batch['input_ids'].to(device)\n",
    "            attention_mask = batch['attention_mask'].to(device)\n",
    "            labels = batch['labels'].to(device)\n",
    "\n",
    "            outputs = model(input_ids, attention_mask)\n",
    "\n",
    "            _, predicted = torch.max(outputs.logits, 1)\n",
    "            total += labels.size(0)\n",
    "            correct += (predicted == labels).sum().item()\n",
    "\n",
    "            loss = criterion(outputs.logits, labels)\n",
    "\n",
    "            val_loss += loss.item()\n",
    "                \n",
    "            y_true.extend(labels.cpu().numpy())\n",
    "            y_pred.extend(predicted.cpu().numpy())\n",
    "\n",
    "    # Calculate average validation loss and accuracy\n",
    "    val_loss /= len(val_loader)\n",
    "    val_losses.append(val_loss)\n",
    "    \n",
    "    accuracy = 100 * correct / total\n",
    "    val_accuracies.append(accuracy)\n",
    "    \n",
    "    print(f\"Validation Loss: {val_loss}, Accuracy: {accuracy}%\")\n",
    "    \n",
    "\n",
    "    report = classification_report(y_true, y_pred, output_dict=True)\n",
    "    print(\"Classification Report:\")\n",
    "    print(report)\n",
    "\n",
    "    wandb.run.summary[\"report\"] = report\n",
    "    wandb.finish()\n",
    "    if conf['save']:\n",
    "        model.save_pretrained(\"distillbert/\"+runName)\n"
   ]
  },
  {
   "cell_type": "code",
   "execution_count": 42,
   "metadata": {},
   "outputs": [
    {
     "name": "stdout",
     "output_type": "stream",
     "text": [
      "Classification Report:\n",
      "              precision    recall  f1-score   support\n",
      "\n",
      "           0       0.59      0.70      0.64       375\n",
      "           1       0.97      0.96      0.96      3989\n",
      "\n",
      "    accuracy                           0.93      4364\n",
      "   macro avg       0.78      0.83      0.80      4364\n",
      "weighted avg       0.94      0.93      0.94      4364\n",
      "\n"
     ]
    }
   ],
   "source": [
    "report = classification_report(y_true, y_pred)\n",
    "print(\"Classification Report:\")\n",
    "print(report)"
   ]
  },
  {
   "cell_type": "code",
   "execution_count": 44,
   "metadata": {},
   "outputs": [
    {
     "data": {
      "image/png": "[encoded data removed]",
      "text/plain": [
       "<Figure size 640x480 with 2 Axes>"
      ]
     },
     "metadata": {},
     "output_type": "display_data"
    }
   ],
   "source": [
    "# Compute the confusion matrix\n",
    "cm = confusion_matrix(y_true, y_pred)\n",
    "\n",
    "# Display the confusion matrix\n",
    "disp = ConfusionMatrixDisplay(confusion_matrix=cm)\n",
    "disp.plot()\n",
    "plt.show()"
   ]
  },
  {
   "cell_type": "code",
   "execution_count": null,
   "metadata": {},
   "outputs": [],
   "source": [
    "model = DistilBertForSequenceClassification.from_pretrained(\"distillbert/\") "
   ]
  },
  {
   "cell_type": "code",
   "execution_count": null,
   "metadata": {},
   "outputs": [],
   "source": [
    "# Function to make predictions on new data\n",
    "def predict(texts):\n",
    "    # Tokenize the input texts\n",
    "    encodings = tokenizer(texts, truncation=True, padding=True, return_tensors='pt')\n",
    "    \n",
    "    # Move the model to the correct device (CPU or GPU)\n",
    "    device = torch.device('cuda') if torch.cuda.is_available() else torch.device('cpu')\n",
    "    model.to(device)\n",
    "    encodings = {key: val.to(device) for key, val in encodings.items()}\n",
    "\n",
    "    # Make predictions\n",
    "    with torch.no_grad():\n",
    "        outputs = model(**encodings)\n",
    "    \n",
    "    # Get the predicted class labels\n",
    "    predictions = torch.argmax(outputs.logits, dim=-1)\n",
    "    \n",
    "    return predictions.cpu().numpy()"
   ]
  },
  {
   "cell_type": "code",
   "execution_count": null,
   "metadata": {},
   "outputs": [],
   "source": [
    "texts = [\"\"\"\n",
    "\n",
    "\"\"\"]\n",
    "print(predict(texts))"
   ]
  },
  {
   "cell_type": "code",
   "execution_count": null,
   "metadata": {},
   "outputs": [],
   "source": [
    "# Example usage\n",
    "new_texts = [\n",
    "    \"\"\"\n",
    "\n",
    "\"\"\"\n",
    "    \n",
    "]\n",
    "\n",
    "predicted_labels = predict(new_texts)\n",
    "print(predicted_labels)"
   ]
  },
  {
   "cell_type": "code",
   "execution_count": null,
   "metadata": {},
   "outputs": [],
   "source": [
    "import matplotlib.pyplot as plt\n",
    "import seaborn as sns\n",
    "\n",
    "\n",
    "# Function to plot weight distributions\n",
    "def plot_weight_distributions(model):\n",
    "    weights = []\n",
    "    for name, param in model.named_parameters():\n",
    "        if 'weight' in name:\n",
    "            weights.extend(param.cpu().detach().numpy().flatten())\n",
    "\n",
    "    plt.figure(figsize=(10, 6))\n",
    "    sns.histplot(weights, bins=100, kde=True)\n",
    "    plt.title('Distribution of Weights')\n",
    "    plt.xlabel('Weight Value')\n",
    "    plt.ylabel('Frequency')\n",
    "    plt.show()\n",
    "\n",
    "# Function to plot weight magnitude by layer\n",
    "def plot_weight_magnitude_by_layer(model):\n",
    "    layer_names = []\n",
    "    weight_magnitudes = []\n",
    "    for name, param in model.named_parameters():\n",
    "        if 'weight' in name:\n",
    "            layer_names.append(name)\n",
    "            weight_magnitudes.append(param.abs().mean().item())\n",
    "\n",
    "    plt.figure(figsize=(12, 6))\n",
    "    plt.barh(layer_names, weight_magnitudes)\n",
    "    plt.title('Average Absolute Weight Magnitude by Layer')\n",
    "    plt.xlabel('Average Absolute Weight Magnitude')\n",
    "    plt.ylabel('Layer')\n",
    "    plt.show()\n",
    "\n",
    "# Function to plot attention weights\n",
    "def plot_attention_weights(model):\n",
    "    # Get the attention weights from the first layer (example)\n",
    "    attention_weights = model.distilbert.transformer.layer[0].attention.q_lin.weight.detach().cpu().numpy()\n",
    "\n",
    "    plt.figure(figsize=(10, 8))\n",
    "    sns.heatmap(attention_weights, cmap='viridis')\n",
    "    plt.title('Attention Weights from First Layer')\n",
    "    plt.xlabel('Head')\n",
    "    plt.ylabel('Weight Index')\n",
    "    plt.show()\n",
    "\n",
    "# Plotting the distributions\n",
    "plot_weight_distributions(model)\n",
    "plot_weight_magnitude_by_layer(model)\n",
    "plot_attention_weights(model)"
   ]
  },
  {
   "cell_type": "markdown",
   "metadata": {},
   "source": [
    "# DISTILLBERT NORMAL SPLIT"
   ]
  },
  {
   "cell_type": "code",
   "execution_count": 45,
   "metadata": {},
   "outputs": [],
   "source": [
    "# Load data \n",
    "dataFrame = pd.read_csv('digitalizações_registadas.csv', #'mdados_docs_cob.csv' mdados_docs_all_16k.csv\n",
    "                       delimiter=\";\",\n",
    "                       date_format=\"\", \n",
    "                       parse_dates=['Data Emissão','Data vencimento indicada',\"Data entrada\"])  #, parse_dates=['DataEmissao']\n",
    "\n",
    "# Strip any leading or trailing whitespace from column names\n",
    "dataFrame.columns = dataFrame.columns.str.strip()\n",
    "\n",
    "# Get unnamed columns to remove\n",
    "unnamed_columns = [col for col in dataFrame.columns if col.startswith('Unnamed')]\n",
    "\n",
    "# Drop unnamed columns\n",
    "dataFrame = dataFrame.drop(columns=unnamed_columns)\n",
    "\n",
    "# Drop rows with any null values\n",
    "dataFrame = dataFrame.dropna(subset=['Data vencimento indicada','Data Emissão','Origem']) #'Contrato'\n",
    "\n",
    "dataFrame['Data entrada'] = pd.to_datetime(dataFrame['Data entrada'], format=\"%d/%m/%Y\")\n"
   ]
  },
  {
   "cell_type": "code",
   "execution_count": 46,
   "metadata": {},
   "outputs": [],
   "source": [
    "dataFrame = dataFrame[dataFrame['Origem'] != \"Requisição\"]\n",
    "dataFrame['Labels'] = dataFrame['Origem']"
   ]
  },
  {
   "cell_type": "code",
   "execution_count": 47,
   "metadata": {},
   "outputs": [],
   "source": [
    "dataFrame['FullText'] = (\n",
    "\"Fornecedor:\"+dataFrame['Fornecedor'] \n",
    "+ '\\n Data emissão:' + dataFrame['Data Emissão']  \n",
    "+ '\\n Data entrada:' + dataFrame['Data entrada'].dt.strftime('%d/%m/%Y')\n",
    "+ '\\n Data vencimento:' + dataFrame['Data vencimento indicada']\n",
    "+ \"\\n Valor com IVA:\"+dataFrame[\"Valor com IVA\"]\n",
    "+ \"\\n\"\n",
    ")"
   ]
  },
  {
   "cell_type": "code",
   "execution_count": 48,
   "metadata": {},
   "outputs": [
    {
     "name": "stderr",
     "output_type": "stream",
     "text": [
      "loading file vocab.txt from cache at /Users/rvlopes/.cache/huggingface/hub/models--distilbert-base-uncased/snapshots/12040accade4e8a0f71eabdb258fecc2e7e948be/vocab.txt\n",
      "loading file added_tokens.json from cache at None\n",
      "loading file special_tokens_map.json from cache at None\n",
      "loading file tokenizer_config.json from cache at /Users/rvlopes/.cache/huggingface/hub/models--distilbert-base-uncased/snapshots/12040accade4e8a0f71eabdb258fecc2e7e948be/tokenizer_config.json\n",
      "loading configuration file config.json from cache at /Users/rvlopes/.cache/huggingface/hub/models--distilbert-base-uncased/snapshots/12040accade4e8a0f71eabdb258fecc2e7e948be/config.json\n",
      "Model config DistilBertConfig {\n",
      "  \"_name_or_path\": \"distilbert-base-uncased\",\n",
      "  \"activation\": \"gelu\",\n",
      "  \"architectures\": [\n",
      "    \"DistilBertForMaskedLM\"\n",
      "  ],\n",
      "  \"attention_dropout\": 0.1,\n",
      "  \"dim\": 768,\n",
      "  \"dropout\": 0.1,\n",
      "  \"hidden_dim\": 3072,\n",
      "  \"initializer_range\": 0.02,\n",
      "  \"max_position_embeddings\": 512,\n",
      "  \"model_type\": \"distilbert\",\n",
      "  \"n_heads\": 12,\n",
      "  \"n_layers\": 6,\n",
      "  \"pad_token_id\": 0,\n",
      "  \"qa_dropout\": 0.1,\n",
      "  \"seq_classif_dropout\": 0.2,\n",
      "  \"sinusoidal_pos_embds\": false,\n",
      "  \"tie_weights_\": true,\n",
      "  \"transformers_version\": \"4.23.0\",\n",
      "  \"vocab_size\": 30522\n",
      "}\n",
      "\n"
     ]
    }
   ],
   "source": [
    "tokenizer = DistilBertTokenizer.from_pretrained('distilbert-base-uncased')\n",
    "\n",
    "special_tokens_dict = {\"pad_token\": \"<PAD>\"}\n",
    "if tokenizer.pad_token is None:\n",
    "    tokenizer.add_special_tokens(special_tokens_dict)"
   ]
  },
  {
   "cell_type": "code",
   "execution_count": 49,
   "metadata": {},
   "outputs": [],
   "source": [
    "if predict_only_one:\n",
    "    texts = dataFrame['FullText'].tolist()\n",
    "    labels = dataFrame['Labels'].tolist()\n",
    "else:\n",
    "    # Assume the CSV has 'text' and 'label' columns\n",
    "    texts = dataFrame['FullText'].tolist()\n",
    "    labels = dataFrame['Labels'].tolist()\n",
    "\n",
    "    # Encode labels to integers\n",
    "    label_encoder = LabelEncoder()\n",
    "    encoded_labels = label_encoder.fit_transform(labels)\n",
    "\n",
    "    encodings = tokenizer(texts, truncation=True, padding=True, max_length=128 )\n",
    "\n",
    "    # Split dataset into training and validation sets\n",
    "    train_texts, val_texts, train_labels, val_labels = train_test_split(\n",
    "        encodings['input_ids'], encoded_labels, test_size=0.1, random_state=42\n",
    "    )\n",
    "\n",
    "    train_masks, val_masks = train_test_split(\n",
    "        encodings['attention_mask'], test_size=0.1, random_state=42\n",
    "    )\n",
    "\n",
    "    train_dataset = EncodedDataset({'input_ids': train_texts, 'attention_mask': train_masks}, train_labels)\n",
    "    val_dataset = EncodedDataset({'input_ids': val_texts, 'attention_mask': val_masks}, val_labels)"
   ]
  },
  {
   "cell_type": "code",
   "execution_count": 50,
   "metadata": {},
   "outputs": [],
   "source": [
    "# DataLoader\n",
    "data_collator = DataCollatorWithPadding(tokenizer=tokenizer)\n",
    "train_loader = DataLoader(train_dataset, batch_size=32, shuffle=True, collate_fn=data_collator)\n",
    "val_loader = DataLoader(val_dataset, batch_size=32, shuffle=False, collate_fn=data_collator)"
   ]
  },
  {
   "cell_type": "code",
   "execution_count": 51,
   "metadata": {},
   "outputs": [],
   "source": [
    "configs = [\n",
    "    {\n",
    "    \"runName\":\"distillbert-mps-v1\",\n",
    "    \"lr\":1e-4,\n",
    "    \"epochs\":1,\n",
    "    \"weight_decay\":0.01,\n",
    "    \"save\":False\n",
    "    },   \n",
    "]"
   ]
  },
  {
   "cell_type": "code",
   "execution_count": 52,
   "metadata": {},
   "outputs": [
    {
     "name": "stderr",
     "output_type": "stream",
     "text": [
      "loading configuration file config.json from cache at /Users/rvlopes/.cache/huggingface/hub/models--distilbert-base-uncased/snapshots/12040accade4e8a0f71eabdb258fecc2e7e948be/config.json\n",
      "Model config DistilBertConfig {\n",
      "  \"activation\": \"gelu\",\n",
      "  \"architectures\": [\n",
      "    \"DistilBertForMaskedLM\"\n",
      "  ],\n",
      "  \"attention_dropout\": 0.1,\n",
      "  \"dim\": 768,\n",
      "  \"dropout\": 0.1,\n",
      "  \"hidden_dim\": 3072,\n",
      "  \"initializer_range\": 0.02,\n",
      "  \"max_position_embeddings\": 512,\n",
      "  \"model_type\": \"distilbert\",\n",
      "  \"n_heads\": 12,\n",
      "  \"n_layers\": 6,\n",
      "  \"pad_token_id\": 0,\n",
      "  \"qa_dropout\": 0.1,\n",
      "  \"seq_classif_dropout\": 0.2,\n",
      "  \"sinusoidal_pos_embds\": false,\n",
      "  \"tie_weights_\": true,\n",
      "  \"transformers_version\": \"4.23.0\",\n",
      "  \"vocab_size\": 30522\n",
      "}\n",
      "\n",
      "loading weights file model.safetensors from cache at /Users/rvlopes/.cache/huggingface/hub/models--distilbert-base-uncased/snapshots/12040accade4e8a0f71eabdb258fecc2e7e948be/model.safetensors\n",
      "Some weights of the model checkpoint at distilbert-base-uncased were not used when initializing DistilBertForSequenceClassification: ['vocab_layer_norm.weight', 'vocab_transform.bias', 'vocab_projector.bias', 'vocab_transform.weight', 'vocab_layer_norm.bias']\n",
      "- This IS expected if you are initializing DistilBertForSequenceClassification from the checkpoint of a model trained on another task or with another architecture (e.g. initializing a BertForSequenceClassification model from a BertForPreTraining model).\n",
      "- This IS NOT expected if you are initializing DistilBertForSequenceClassification from the checkpoint of a model that you expect to be exactly identical (initializing a BertForSequenceClassification model from a BertForSequenceClassification model).\n",
      "Some weights of DistilBertForSequenceClassification were not initialized from the model checkpoint at distilbert-base-uncased and are newly initialized: ['pre_classifier.weight', 'classifier.weight', 'pre_classifier.bias', 'classifier.bias']\n",
      "You should probably TRAIN this model on a down-stream task to be able to use it for predictions and inference.\n",
      "PyTorch: setting up devices\n",
      "/opt/homebrew/anaconda3/lib/python3.11/site-packages/datasets/load.py:759: FutureWarning: The repository for accuracy contains custom code which must be executed to correctly load the metric. You can inspect the repository content at https://raw.githubusercontent.com/huggingface/datasets/2.19.0/metrics/accuracy/accuracy.py\n",
      "You can avoid this message in future by passing the argument `trust_remote_code=True`.\n",
      "Passing `trust_remote_code=True` will be mandatory to load this metric from the next major release of `datasets`.\n",
      "  warnings.warn(\n"
     ]
    },
    {
     "data": {
      "text/html": [
       "wandb version 0.17.3 is available!  To upgrade, please run:\n",
       " $ pip install wandb --upgrade"
      ],
      "text/plain": [
       "<IPython.core.display.HTML object>"
      ]
     },
     "metadata": {},
     "output_type": "display_data"
    },
    {
     "data": {
      "text/html": [
       "Tracking run with wandb version 0.17.2"
      ],
      "text/plain": [
       "<IPython.core.display.HTML object>"
      ]
     },
     "metadata": {},
     "output_type": "display_data"
    },
    {
     "data": {
      "text/html": [
       "Run data is saved locally in <code>/Users/rvlopes/CoB/machine_learning_playground/wandb/run-20240625_132036-linx1e4y</code>"
      ],
      "text/plain": [
       "<IPython.core.display.HTML object>"
      ]
     },
     "metadata": {},
     "output_type": "display_data"
    },
    {
     "data": {
      "text/html": [
       "Syncing run <strong><a href='https://wandb.ai/rvlopes/cob-demo/runs/linx1e4y' target=\"_blank\">worldly-fog-78</a></strong> to <a href='https://wandb.ai/rvlopes/cob-demo' target=\"_blank\">Weights & Biases</a> (<a href='https://wandb.me/run' target=\"_blank\">docs</a>)<br/>"
      ],
      "text/plain": [
       "<IPython.core.display.HTML object>"
      ]
     },
     "metadata": {},
     "output_type": "display_data"
    },
    {
     "data": {
      "text/html": [
       " View project at <a href='https://wandb.ai/rvlopes/cob-demo' target=\"_blank\">https://wandb.ai/rvlopes/cob-demo</a>"
      ],
      "text/plain": [
       "<IPython.core.display.HTML object>"
      ]
     },
     "metadata": {},
     "output_type": "display_data"
    },
    {
     "data": {
      "text/html": [
       " View run at <a href='https://wandb.ai/rvlopes/cob-demo/runs/linx1e4y' target=\"_blank\">https://wandb.ai/rvlopes/cob-demo/runs/linx1e4y</a>"
      ],
      "text/plain": [
       "<IPython.core.display.HTML object>"
      ]
     },
     "metadata": {},
     "output_type": "display_data"
    },
    {
     "name": "stderr",
     "output_type": "stream",
     "text": [
      "/opt/homebrew/anaconda3/lib/python3.11/site-packages/transformers/optimization.py:306: FutureWarning: This implementation of AdamW is deprecated and will be removed in a future version. Use the PyTorch implementation torch.optim.AdamW instead, or set `no_deprecation_warning=True` to disable this warning\n",
      "  warnings.warn(\n",
      "***** Running training *****\n",
      "  Num examples = 27991\n",
      "  Num Epochs = 1\n",
      "  Instantaneous batch size per device = 32\n",
      "  Total train batch size (w. parallel, distributed & accumulation) = 32\n",
      "  Gradient Accumulation steps = 1\n",
      "  Total optimization steps = 875\n",
      "Automatic Weights & Biases logging enabled, to disable set os.environ[\"WANDB_DISABLED\"] = \"true\"\n"
     ]
    },
    {
     "data": {
      "application/vnd.jupyter.widget-view+json": {
       "model_id": "359052432af742f58025bc446ec7eb40",
       "version_major": 2,
       "version_minor": 0
      },
      "text/plain": [
       "  0%|          | 0/875 [00:00<?, ?it/s]"
      ]
     },
     "metadata": {},
     "output_type": "display_data"
    },
    {
     "name": "stdout",
     "output_type": "stream",
     "text": [
      "{'loss': 0.3955, 'learning_rate': 9.885714285714286e-05, 'epoch': 0.01}\n",
      "{'loss': 0.4426, 'learning_rate': 9.771428571428572e-05, 'epoch': 0.02}\n",
      "{'loss': 0.3691, 'learning_rate': 9.657142857142858e-05, 'epoch': 0.03}\n",
      "{'loss': 0.3515, 'learning_rate': 9.542857142857143e-05, 'epoch': 0.05}\n",
      "{'loss': 0.4336, 'learning_rate': 9.428571428571429e-05, 'epoch': 0.06}\n",
      "{'loss': 0.2946, 'learning_rate': 9.314285714285715e-05, 'epoch': 0.07}\n",
      "{'loss': 0.2392, 'learning_rate': 9.200000000000001e-05, 'epoch': 0.08}\n",
      "{'loss': 0.2689, 'learning_rate': 9.085714285714286e-05, 'epoch': 0.09}\n",
      "{'loss': 0.24, 'learning_rate': 8.971428571428571e-05, 'epoch': 0.1}\n",
      "{'loss': 0.2538, 'learning_rate': 8.857142857142857e-05, 'epoch': 0.11}\n",
      "{'loss': 0.2288, 'learning_rate': 8.742857142857144e-05, 'epoch': 0.13}\n",
      "{'loss': 0.2665, 'learning_rate': 8.62857142857143e-05, 'epoch': 0.14}\n",
      "{'loss': 0.2267, 'learning_rate': 8.514285714285714e-05, 'epoch': 0.15}\n",
      "{'loss': 0.2007, 'learning_rate': 8.4e-05, 'epoch': 0.16}\n",
      "{'loss': 0.1871, 'learning_rate': 8.285714285714287e-05, 'epoch': 0.17}\n",
      "{'loss': 0.1771, 'learning_rate': 8.171428571428572e-05, 'epoch': 0.18}\n",
      "{'loss': 0.2071, 'learning_rate': 8.057142857142857e-05, 'epoch': 0.19}\n",
      "{'loss': 0.1404, 'learning_rate': 7.942857142857143e-05, 'epoch': 0.21}\n",
      "{'loss': 0.2559, 'learning_rate': 7.828571428571429e-05, 'epoch': 0.22}\n",
      "{'loss': 0.1679, 'learning_rate': 7.714285714285715e-05, 'epoch': 0.23}\n",
      "{'loss': 0.1744, 'learning_rate': 7.6e-05, 'epoch': 0.24}\n",
      "{'loss': 0.153, 'learning_rate': 7.485714285714285e-05, 'epoch': 0.25}\n",
      "{'loss': 0.1145, 'learning_rate': 7.371428571428572e-05, 'epoch': 0.26}\n",
      "{'loss': 0.1906, 'learning_rate': 7.257142857142858e-05, 'epoch': 0.27}\n",
      "{'loss': 0.1574, 'learning_rate': 7.142857142857143e-05, 'epoch': 0.29}\n",
      "{'loss': 0.1987, 'learning_rate': 7.028571428571428e-05, 'epoch': 0.3}\n",
      "{'loss': 0.1925, 'learning_rate': 6.914285714285715e-05, 'epoch': 0.31}\n",
      "{'loss': 0.15, 'learning_rate': 6.800000000000001e-05, 'epoch': 0.32}\n",
      "{'loss': 0.1756, 'learning_rate': 6.685714285714286e-05, 'epoch': 0.33}\n",
      "{'loss': 0.2224, 'learning_rate': 6.571428571428571e-05, 'epoch': 0.34}\n",
      "{'loss': 0.1336, 'learning_rate': 6.457142857142856e-05, 'epoch': 0.35}\n",
      "{'loss': 0.17, 'learning_rate': 6.342857142857143e-05, 'epoch': 0.37}\n",
      "{'loss': 0.1705, 'learning_rate': 6.22857142857143e-05, 'epoch': 0.38}\n",
      "{'loss': 0.1393, 'learning_rate': 6.114285714285714e-05, 'epoch': 0.39}\n",
      "{'loss': 0.1803, 'learning_rate': 6e-05, 'epoch': 0.4}\n",
      "{'loss': 0.1469, 'learning_rate': 5.885714285714285e-05, 'epoch': 0.41}\n",
      "{'loss': 0.1385, 'learning_rate': 5.771428571428572e-05, 'epoch': 0.42}\n",
      "{'loss': 0.1346, 'learning_rate': 5.6571428571428574e-05, 'epoch': 0.43}\n",
      "{'loss': 0.1724, 'learning_rate': 5.542857142857143e-05, 'epoch': 0.45}\n",
      "{'loss': 0.1372, 'learning_rate': 5.428571428571428e-05, 'epoch': 0.46}\n",
      "{'loss': 0.1154, 'learning_rate': 5.314285714285715e-05, 'epoch': 0.47}\n",
      "{'loss': 0.2004, 'learning_rate': 5.2000000000000004e-05, 'epoch': 0.48}\n",
      "{'loss': 0.2085, 'learning_rate': 5.085714285714286e-05, 'epoch': 0.49}\n",
      "{'loss': 0.1269, 'learning_rate': 4.971428571428572e-05, 'epoch': 0.5}\n",
      "{'loss': 0.1295, 'learning_rate': 4.8571428571428576e-05, 'epoch': 0.51}\n",
      "{'loss': 0.1231, 'learning_rate': 4.742857142857143e-05, 'epoch': 0.53}\n",
      "{'loss': 0.1218, 'learning_rate': 4.628571428571429e-05, 'epoch': 0.54}\n",
      "{'loss': 0.1972, 'learning_rate': 4.514285714285714e-05, 'epoch': 0.55}\n",
      "{'loss': 0.1381, 'learning_rate': 4.4000000000000006e-05, 'epoch': 0.56}\n"
     ]
    },
    {
     "name": "stderr",
     "output_type": "stream",
     "text": [
      "Saving model checkpoint to ./results/checkpoint-500\n",
      "Configuration saved in ./results/checkpoint-500/config.json\n"
     ]
    },
    {
     "name": "stdout",
     "output_type": "stream",
     "text": [
      "{'loss': 0.1501, 'learning_rate': 4.2857142857142856e-05, 'epoch': 0.57}\n"
     ]
    },
    {
     "name": "stderr",
     "output_type": "stream",
     "text": [
      "Model weights saved in ./results/checkpoint-500/pytorch_model.bin\n",
      "tokenizer config file saved in ./results/checkpoint-500/tokenizer_config.json\n",
      "Special tokens file saved in ./results/checkpoint-500/special_tokens_map.json\n"
     ]
    },
    {
     "name": "stdout",
     "output_type": "stream",
     "text": [
      "{'loss': 0.1634, 'learning_rate': 4.1714285714285714e-05, 'epoch': 0.58}\n",
      "{'loss': 0.1326, 'learning_rate': 4.057142857142857e-05, 'epoch': 0.59}\n",
      "{'loss': 0.1238, 'learning_rate': 3.942857142857143e-05, 'epoch': 0.61}\n",
      "{'loss': 0.1313, 'learning_rate': 3.8285714285714286e-05, 'epoch': 0.62}\n",
      "{'loss': 0.1118, 'learning_rate': 3.7142857142857143e-05, 'epoch': 0.63}\n",
      "{'loss': 0.117, 'learning_rate': 3.6e-05, 'epoch': 0.64}\n",
      "{'loss': 0.1384, 'learning_rate': 3.485714285714286e-05, 'epoch': 0.65}\n",
      "{'loss': 0.1288, 'learning_rate': 3.3714285714285716e-05, 'epoch': 0.66}\n",
      "{'loss': 0.1708, 'learning_rate': 3.257142857142857e-05, 'epoch': 0.67}\n",
      "{'loss': 0.1261, 'learning_rate': 3.142857142857143e-05, 'epoch': 0.69}\n",
      "{'loss': 0.1332, 'learning_rate': 3.0285714285714288e-05, 'epoch': 0.7}\n",
      "{'loss': 0.1391, 'learning_rate': 2.9142857142857146e-05, 'epoch': 0.71}\n",
      "{'loss': 0.1599, 'learning_rate': 2.8000000000000003e-05, 'epoch': 0.72}\n",
      "{'loss': 0.0973, 'learning_rate': 2.6857142857142857e-05, 'epoch': 0.73}\n",
      "{'loss': 0.1218, 'learning_rate': 2.5714285714285714e-05, 'epoch': 0.74}\n",
      "{'loss': 0.1259, 'learning_rate': 2.4571428571428572e-05, 'epoch': 0.75}\n",
      "{'loss': 0.1215, 'learning_rate': 2.342857142857143e-05, 'epoch': 0.77}\n",
      "{'loss': 0.1236, 'learning_rate': 2.2285714285714287e-05, 'epoch': 0.78}\n",
      "{'loss': 0.138, 'learning_rate': 2.1142857142857144e-05, 'epoch': 0.79}\n",
      "{'loss': 0.1158, 'learning_rate': 2e-05, 'epoch': 0.8}\n",
      "{'loss': 0.1073, 'learning_rate': 1.885714285714286e-05, 'epoch': 0.81}\n",
      "{'loss': 0.1236, 'learning_rate': 1.7714285714285713e-05, 'epoch': 0.82}\n",
      "{'loss': 0.1154, 'learning_rate': 1.657142857142857e-05, 'epoch': 0.83}\n",
      "{'loss': 0.1587, 'learning_rate': 1.5428571428571428e-05, 'epoch': 0.85}\n",
      "{'loss': 0.1082, 'learning_rate': 1.4285714285714285e-05, 'epoch': 0.86}\n",
      "{'loss': 0.1224, 'learning_rate': 1.3142857142857143e-05, 'epoch': 0.87}\n",
      "{'loss': 0.1694, 'learning_rate': 1.2e-05, 'epoch': 0.88}\n",
      "{'loss': 0.1166, 'learning_rate': 1.0857142857142858e-05, 'epoch': 0.89}\n",
      "{'loss': 0.1139, 'learning_rate': 9.714285714285715e-06, 'epoch': 0.9}\n",
      "{'loss': 0.116, 'learning_rate': 8.571428571428573e-06, 'epoch': 0.91}\n",
      "{'loss': 0.0951, 'learning_rate': 7.428571428571429e-06, 'epoch': 0.93}\n",
      "{'loss': 0.1411, 'learning_rate': 6.285714285714287e-06, 'epoch': 0.94}\n",
      "{'loss': 0.099, 'learning_rate': 5.142857142857143e-06, 'epoch': 0.95}\n",
      "{'loss': 0.1349, 'learning_rate': 4.000000000000001e-06, 'epoch': 0.96}\n",
      "{'loss': 0.1247, 'learning_rate': 2.8571428571428573e-06, 'epoch': 0.97}\n",
      "{'loss': 0.1105, 'learning_rate': 1.7142857142857145e-06, 'epoch': 0.98}\n",
      "{'loss': 0.1354, 'learning_rate': 5.714285714285715e-07, 'epoch': 0.99}\n"
     ]
    },
    {
     "name": "stderr",
     "output_type": "stream",
     "text": [
      "***** Running Evaluation *****\n",
      "  Num examples = 3111\n",
      "  Batch size = 16\n"
     ]
    },
    {
     "data": {
      "application/vnd.jupyter.widget-view+json": {
       "model_id": "6425d303fb284742a3281c69430f6560",
       "version_major": 2,
       "version_minor": 0
      },
      "text/plain": [
       "  0%|          | 0/195 [00:00<?, ?it/s]"
      ]
     },
     "metadata": {},
     "output_type": "display_data"
    },
    {
     "name": "stderr",
     "output_type": "stream",
     "text": [
      "\n",
      "\n",
      "Training completed. Do not forget to share your model on huggingface.co/models =)\n",
      "\n",
      "\n",
      "***** Running Evaluation *****\n",
      "  Num examples = 3111\n",
      "  Batch size = 16\n"
     ]
    },
    {
     "name": "stdout",
     "output_type": "stream",
     "text": [
      "{'eval_loss': 0.13022200763225555, 'eval_accuracy': 0.944069431051109, 'eval_runtime': 9.2831, 'eval_samples_per_second': 335.126, 'eval_steps_per_second': 21.006, 'epoch': 1.0}\n",
      "{'train_runtime': 281.1939, 'train_samples_per_second': 99.543, 'train_steps_per_second': 3.112, 'train_loss': 0.17003856883730206, 'epoch': 1.0}\n"
     ]
    },
    {
     "data": {
      "application/vnd.jupyter.widget-view+json": {
       "model_id": "e1fc8e1f09e246f5b321afe1b6e67b12",
       "version_major": 2,
       "version_minor": 0
      },
      "text/plain": [
       "  0%|          | 0/195 [00:00<?, ?it/s]"
      ]
     },
     "metadata": {},
     "output_type": "display_data"
    },
    {
     "name": "stdout",
     "output_type": "stream",
     "text": [
      "Evaluation results: {'eval_loss': 0.13022200763225555, 'eval_accuracy': 0.944069431051109, 'eval_runtime': 9.0468, 'eval_samples_per_second': 343.88, 'eval_steps_per_second': 21.555, 'epoch': 1.0}\n"
     ]
    },
    {
     "data": {
      "application/vnd.jupyter.widget-view+json": {
       "model_id": "e0daed4afbcb40e0b815f647297f2aeb",
       "version_major": 2,
       "version_minor": 0
      },
      "text/plain": [
       "VBox(children=(Label(value='0.001 MB of 0.001 MB uploaded\\r'), FloatProgress(value=1.0, max=1.0)))"
      ]
     },
     "metadata": {},
     "output_type": "display_data"
    },
    {
     "data": {
      "text/html": [
       "<style>\n",
       "    table.wandb td:nth-child(1) { padding: 0 10px; text-align: left ; width: auto;} td:nth-child(2) {text-align: left ; width: 100%}\n",
       "    .wandb-row { display: flex; flex-direction: row; flex-wrap: wrap; justify-content: flex-start; width: 100% }\n",
       "    .wandb-col { display: flex; flex-direction: column; flex-basis: 100%; flex: 1; padding: 10px; }\n",
       "    </style>\n",
       "<div class=\"wandb-row\"><div class=\"wandb-col\"><h3>Run history:</h3><br/><table class=\"wandb\"><tr><td>eval/accuracy</td><td>▁▁</td></tr><tr><td>eval/loss</td><td>▁▁</td></tr><tr><td>eval/runtime</td><td>█▁</td></tr><tr><td>eval/samples_per_second</td><td>▁█</td></tr><tr><td>eval/steps_per_second</td><td>▁█</td></tr><tr><td>train/epoch</td><td>▁▁▁▁▂▂▂▂▂▃▃▃▃▃▄▄▄▄▄▄▅▅▅▅▅▆▆▆▆▆▇▇▇▇▇▇████</td></tr><tr><td>train/global_step</td><td>▁▁▁▁▂▂▂▂▂▃▃▃▃▃▄▄▄▄▄▄▅▅▅▅▅▆▆▆▆▆▇▇▇▇▇▇████</td></tr><tr><td>train/learning_rate</td><td>████▇▇▇▇▇▆▆▆▆▆▆▅▅▅▅▅▄▄▄▄▄▄▃▃▃▃▃▂▂▂▂▂▂▁▁▁</td></tr><tr><td>train/loss</td><td>▇▇█▄▄▅▃▃▂▂▁▂▃▃▂▂▂▂▂▃▂▂▂▂▂▁▂▂▂▁▂▂▁▁▁▁▁▂▂▂</td></tr><tr><td>train/total_flos</td><td>▁</td></tr><tr><td>train/train_loss</td><td>▁</td></tr><tr><td>train/train_runtime</td><td>▁</td></tr><tr><td>train/train_samples_per_second</td><td>▁</td></tr><tr><td>train/train_steps_per_second</td><td>▁</td></tr></table><br/></div><div class=\"wandb-col\"><h3>Run summary:</h3><br/><table class=\"wandb\"><tr><td>eval/accuracy</td><td>0.94407</td></tr><tr><td>eval/loss</td><td>0.13022</td></tr><tr><td>eval/runtime</td><td>9.0468</td></tr><tr><td>eval/samples_per_second</td><td>343.88</td></tr><tr><td>eval/steps_per_second</td><td>21.555</td></tr><tr><td>train/epoch</td><td>1.0</td></tr><tr><td>train/global_step</td><td>875</td></tr><tr><td>train/learning_rate</td><td>0.0</td></tr><tr><td>train/loss</td><td>0.1354</td></tr><tr><td>train/total_flos</td><td>564874622169624.0</td></tr><tr><td>train/train_loss</td><td>0.17004</td></tr><tr><td>train/train_runtime</td><td>281.1939</td></tr><tr><td>train/train_samples_per_second</td><td>99.543</td></tr><tr><td>train/train_steps_per_second</td><td>3.112</td></tr></table><br/></div></div>"
      ],
      "text/plain": [
       "<IPython.core.display.HTML object>"
      ]
     },
     "metadata": {},
     "output_type": "display_data"
    },
    {
     "data": {
      "text/html": [
       " View run <strong style=\"color:#cdcd00\">worldly-fog-78</strong> at: <a href='https://wandb.ai/rvlopes/cob-demo/runs/linx1e4y' target=\"_blank\">https://wandb.ai/rvlopes/cob-demo/runs/linx1e4y</a><br/> View project at: <a href='https://wandb.ai/rvlopes/cob-demo' target=\"_blank\">https://wandb.ai/rvlopes/cob-demo</a><br/>Synced 6 W&B file(s), 0 media file(s), 0 artifact file(s) and 0 other file(s)"
      ],
      "text/plain": [
       "<IPython.core.display.HTML object>"
      ]
     },
     "metadata": {},
     "output_type": "display_data"
    },
    {
     "data": {
      "text/html": [
       "Find logs at: <code>./wandb/run-20240625_132036-linx1e4y/logs</code>"
      ],
      "text/plain": [
       "<IPython.core.display.HTML object>"
      ]
     },
     "metadata": {},
     "output_type": "display_data"
    },
    {
     "data": {
      "text/html": [
       "The new W&B backend becomes opt-out in version 0.18.0; try it out with `wandb.require(\"core\")`! See https://wandb.me/wandb-core for more information."
      ],
      "text/plain": [
       "<IPython.core.display.HTML object>"
      ]
     },
     "metadata": {},
     "output_type": "display_data"
    }
   ],
   "source": [
    "for conf in configs:\n",
    "    # Instantiate the model\n",
    "    model = DistilBertForSequenceClassification.from_pretrained('distilbert-base-uncased', num_labels=len(label_encoder.classes_))  # Adjust num_labels as needed\n",
    "\n",
    "    # move model to device\n",
    "    device = torch.device(\"mps\" if torch.backends.mps.is_available() else \"cpu\")\n",
    "    model.to(device)\n",
    "\n",
    "\n",
    "    # Define the training arguments\n",
    "    training_args = TrainingArguments(\n",
    "    learning_rate=conf['lr'],\n",
    "    output_dir='./results',          # output directory\n",
    "    num_train_epochs=conf['epochs'],              # number of training epochs\n",
    "    per_device_train_batch_size=32,  # batch size for training\n",
    "    per_device_eval_batch_size=16,   # batch size for evaluation\n",
    "    warmup_steps=0,                # number of warmup steps for learning rate scheduler\n",
    "    weight_decay=conf['weight_decay'],               # strength of weight decay\n",
    "    logging_dir='./logs',            # directory for storing logs\n",
    "    logging_steps=10,\n",
    "    evaluation_strategy='epoch',\n",
    "    report_to=\"wandb\",\n",
    "    #fp16=True,\n",
    "    use_mps_device=True,\n",
    "    seed=seed,\n",
    "    data_seed=seed\n",
    "    )\n",
    "\n",
    "    metric = load_metric(\"accuracy\")\n",
    "\n",
    "    def compute_metrics(p):\n",
    "        return metric.compute(predictions=np.argmax(p.predictions, axis=1), references=p.label_ids)\n",
    "    \n",
    "\n",
    "    # Initialize the Trainer\n",
    "    # may require the usage of model_init to ensure\n",
    "    # reproducibility\n",
    "    trainer = Trainer(\n",
    "    model=model,\n",
    "    args=training_args,\n",
    "    train_dataset=train_dataset,\n",
    "    eval_dataset=val_dataset,\n",
    "    tokenizer=tokenizer,\n",
    "    compute_metrics=compute_metrics\n",
    "    )\n",
    "\n",
    "    wandb.init(project=\"cob-demo\")\n",
    "    wandb.run.name = conf['runName']\n",
    "\n",
    "    # Train the model\n",
    "    trainer.train()\n",
    "\n",
    "\n",
    "    # Evaluate the model\n",
    "    eval_result = trainer.evaluate()\n",
    "    print(f\"Evaluation results: {eval_result}\")\n",
    "    \n",
    "\n",
    "    wandb.finish()\n",
    "    if conf['save']:\n",
    "        model.save_pretrained(\"distillbert/\")\n"
   ]
  },
  {
   "cell_type": "code",
   "execution_count": 53,
   "metadata": {},
   "outputs": [
    {
     "name": "stderr",
     "output_type": "stream",
     "text": [
      "***** Running Prediction *****\n",
      "  Num examples = 3111\n",
      "  Batch size = 16\n"
     ]
    },
    {
     "data": {
      "application/vnd.jupyter.widget-view+json": {
       "model_id": "5777c063d10344e48dfa9d8ecfde4fbe",
       "version_major": 2,
       "version_minor": 0
      },
      "text/plain": [
       "  0%|          | 0/195 [00:00<?, ?it/s]"
      ]
     },
     "metadata": {},
     "output_type": "display_data"
    }
   ],
   "source": [
    "preds = trainer.predict(val_dataset).predictions\n",
    "preds = np.argmax(preds, axis=1)"
   ]
  },
  {
   "cell_type": "code",
   "execution_count": 54,
   "metadata": {},
   "outputs": [
    {
     "data": {
      "image/png": "[encoded data removed]",
      "text/plain": [
       "<Figure size 640x480 with 2 Axes>"
      ]
     },
     "metadata": {},
     "output_type": "display_data"
    }
   ],
   "source": [
    "# Compute the confusion matrix\n",
    "cm = confusion_matrix(val_labels, preds)\n",
    "\n",
    "# Display the confusion matrix\n",
    "disp = ConfusionMatrixDisplay(confusion_matrix=cm)\n",
    "disp.plot()\n",
    "plt.show()"
   ]
  }
 ],
 "metadata": {
  "kernelspec": {
   "display_name": "machinelearning",
   "language": "python",
   "name": "python3"
  },
  "language_info": {
   "codemirror_mode": {
    "name": "ipython",
    "version": 3
   },
   "file_extension": ".py",
   "mimetype": "text/x-python",
   "name": "python",
   "nbconvert_exporter": "python",
   "pygments_lexer": "ipython3",
   "version": "3.11.7"
  }
 },
 "nbformat": 4,
 "nbformat_minor": 2
}
