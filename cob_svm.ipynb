{
 "cells": [
  {
   "cell_type": "code",
   "execution_count": 47,
   "metadata": {},
   "outputs": [],
   "source": [
    "import pandas as pd\n",
    "import numpy as np\n",
    "from sklearn.model_selection import train_test_split\n",
    "from sklearn.ensemble import RandomForestRegressor\n",
    "from sklearn.metrics import mean_absolute_error\n",
    "import matplotlib.pyplot as plt\n",
    "\n",
    "import pandas as pd\n",
    "import torch\n",
    "from sklearn.model_selection import train_test_split\n",
    "from transformers import DataCollatorWithPadding, GPT2Tokenizer, DistilBertForSequenceClassification, DistilBertModel, DistilBertTokenizer, TrainingArguments, Trainer, TrainingArguments\n",
    "from datasets import load_metric\n",
    "from torch.utils.data import DataLoader\n",
    "from torch.utils.data import DataLoader, Dataset\n",
    "import numpy as np\n",
    "from sklearn.preprocessing import LabelEncoder, StandardScaler\n",
    "from sklearn.metrics import confusion_matrix, classification_report, roc_curve, auc\n",
    "from torch import nn\n",
    "import matplotlib.pyplot as plt\n",
    "import seaborn as sns\n",
    "import random\n",
    "import wandb\n",
    "from sklearn.metrics import mean_absolute_error, mean_squared_error, r2_score, classification_report, accuracy_score\n",
    "from sklearn.svm import SVC\n"
   ]
  },
  {
   "cell_type": "code",
   "execution_count": 48,
   "metadata": {},
   "outputs": [],
   "source": [
    "do_label_same_size_sample = True\n",
    "\n",
    "seed = 42\n",
    "torch.manual_seed(seed)\n",
    "torch.cuda.manual_seed(seed) if torch.cuda.is_available() else None\n",
    "np.random.seed(seed)\n",
    "random.seed(seed)"
   ]
  },
  {
   "cell_type": "code",
   "execution_count": 49,
   "metadata": {},
   "outputs": [],
   "source": [
    "# Load data \n",
    "dataFrame = pd.read_csv('digitalizações_registadas.csv', #'mdados_docs_cob.csv' mdados_docs_all_16k.csv\n",
    "                       delimiter=\";\",\n",
    "                       date_format=\"\", \n",
    "                       parse_dates=['Data Emissão','Data vencimento indicada'])  #, parse_dates=['DataEmissao']\n",
    "\n",
    "# Strip any leading or trailing whitespace from column names\n",
    "dataFrame.columns = dataFrame.columns.str.strip()\n",
    "\n",
    "# Get unnamed columns to remove\n",
    "unnamed_columns = [col for col in dataFrame.columns if col.startswith('Unnamed')]\n",
    "\n",
    "# Drop unnamed columns\n",
    "dataFrame = dataFrame.drop(columns=unnamed_columns)\n",
    "\n",
    "# Drop rows with any null values\n",
    "dataFrame = dataFrame.dropna(subset=['Data vencimento indicada','Data Emissão','Origem']) #'Contrato'\n",
    "# Drop specific row with date in year 221\n",
    "dataFrame = dataFrame[dataFrame['Nº documento Fornecedor'] != \"ZRF2 2/6001001951\"]\n",
    "\n",
    "dataFrame['Data Emissão'] = pd.to_datetime(dataFrame['Data Emissão'], format=\"%d/%m/%Y\")\n",
    "dataFrame['Data entrada'] = pd.to_datetime(dataFrame['Data entrada'], format=\"%d/%m/%Y\")\n",
    "dataFrame['Data vencimento indicada'] = pd.to_datetime(dataFrame['Data vencimento indicada'], format=\"%d/%m/%Y\")\n",
    "\n",
    "dataFrame['Valor com IVA'] = dataFrame['Valor com IVA'].str.replace(',', '').astype(float)\n",
    "#dataFrame = pd.get_dummies(dataFrame, columns=['Categoria'])\n"
   ]
  },
  {
   "cell_type": "code",
   "execution_count": 50,
   "metadata": {},
   "outputs": [],
   "source": [
    "dataFrame = dataFrame[dataFrame['Origem'] != \"Requisição\"]\n",
    "dataFrame['Labels'] = dataFrame['Origem']"
   ]
  },
  {
   "cell_type": "code",
   "execution_count": 51,
   "metadata": {},
   "outputs": [],
   "source": [
    "if do_label_same_size_sample:\n",
    "    grouped = dataFrame.groupby('Labels')\n",
    "    min_size = grouped.size().min()\n",
    "    dataFrame = grouped.apply(lambda x: x.sample(min_size)).reset_index(drop=True)"
   ]
  },
  {
   "cell_type": "code",
   "execution_count": 52,
   "metadata": {},
   "outputs": [
    {
     "data": {
      "text/plain": [
       "7580"
      ]
     },
     "execution_count": 52,
     "metadata": {},
     "output_type": "execute_result"
    }
   ],
   "source": [
    "len(dataFrame)"
   ]
  },
  {
   "cell_type": "code",
   "execution_count": 53,
   "metadata": {},
   "outputs": [],
   "source": [
    "# Feature Engineering\n",
    "dataFrame['MonthEmissão'] = dataFrame['Data Emissão'].dt.month\n",
    "dataFrame['DayOfWeekEmissão'] = dataFrame['Data Emissão'].dt.dayofweek\n",
    "\n",
    "dataFrame['MonthEntrada'] = dataFrame['Data entrada'].dt.month\n",
    "dataFrame['DayOfWeekEntrada'] = dataFrame['Data entrada'].dt.dayofweek\n",
    "\n",
    "dataFrame['MonthVencimento'] = dataFrame['Data vencimento indicada'].dt.month\n",
    "dataFrame['DayOfWeekVencimento'] = dataFrame['Data vencimento indicada'].dt.dayofweek"
   ]
  },
  {
   "cell_type": "code",
   "execution_count": 54,
   "metadata": {},
   "outputs": [],
   "source": [
    "# encode data\n",
    "label_encoder = LabelEncoder()\n",
    "\n",
    "dataFrame_before_2024 = dataFrame[dataFrame['Data entrada'] < '2024-02-01']\n",
    "dataFrame_after_2024 = dataFrame[dataFrame['Data entrada'] >= '2024-02-01']\n",
    "\n",
    "\n",
    "train_labels = dataFrame_before_2024['Labels'].tolist()\n",
    "test_labels = dataFrame_after_2024['Labels'].tolist()\n",
    "\n",
    "classes = \"\"\n",
    "encoded_labels_train = label_encoder.fit_transform(train_labels)\n",
    "classes = label_encoder.classes_ #quick hack\n",
    "encoded_labels_test = label_encoder.fit_transform(test_labels)\n",
    "\n",
    "\n",
    "dataFrame_before_2024 = dataFrame_before_2024.drop([\"Labels\",\"Estado\",\n",
    "                   \"Data Emissão\",\"Data vencimento indicada\",\n",
    "                   \"Data entrada\",\"Origem\",\"Nº documento Fornecedor\",\n",
    "                   \"Nº Encomenda\",\"Âmbito de Compra\"], axis=1)\n",
    "\n",
    "dataFrame_before_2024['Fornecedor'] = label_encoder.fit_transform(dataFrame_before_2024['Fornecedor'])\n",
    "\n",
    "\n",
    "dataFrame_after_2024 = dataFrame_after_2024.drop([\"Labels\",\"Estado\",\n",
    "                   \"Data Emissão\",\"Data vencimento indicada\",\n",
    "                   \"Data entrada\",\"Origem\",\"Nº documento Fornecedor\",\n",
    "                   \"Nº Encomenda\",\"Âmbito de Compra\"], axis=1)\n",
    "\n",
    "dataFrame_after_2024['Fornecedor'] = label_encoder.fit_transform(dataFrame_after_2024['Fornecedor'])"
   ]
  },
  {
   "cell_type": "code",
   "execution_count": 55,
   "metadata": {},
   "outputs": [
    {
     "name": "stdout",
     "output_type": "stream",
     "text": [
      "X_train shape: (6667, 8)\n",
      "X_test shape: (913, 8)\n",
      "y_train shape: (6667,)\n",
      "y_test shape: (913,)\n"
     ]
    }
   ],
   "source": [
    "X_train = dataFrame_before_2024\n",
    "X_test = dataFrame_after_2024\n",
    "\n",
    "y_train = encoded_labels_train\n",
    "y_test = encoded_labels_test\n",
    "\n",
    "# Verify the dimensions of the splits\n",
    "print(f\"X_train shape: {X_train.shape}\")\n",
    "print(f\"X_test shape: {X_test.shape}\")\n",
    "print(f\"y_train shape: {y_train.shape}\")\n",
    "print(f\"y_test shape: {y_test.shape}\")"
   ]
  },
  {
   "cell_type": "code",
   "execution_count": 56,
   "metadata": {},
   "outputs": [],
   "source": [
    "# Standardize the features\n",
    "scaler = StandardScaler()\n",
    "X_train = scaler.fit_transform(X_train)\n",
    "X_test = scaler.transform(X_test)"
   ]
  },
  {
   "cell_type": "code",
   "execution_count": 57,
   "metadata": {},
   "outputs": [
    {
     "name": "stdout",
     "output_type": "stream",
     "text": [
      "Accuracy: 0.47\n",
      "Classification Report:\n",
      "              precision    recall  f1-score   support\n",
      "\n",
      "    Contrato       0.43      0.98      0.60       375\n",
      "      Manual       0.87      0.11      0.19       538\n",
      "\n",
      "    accuracy                           0.47       913\n",
      "   macro avg       0.65      0.54      0.40       913\n",
      "weighted avg       0.69      0.47      0.36       913\n",
      "\n"
     ]
    }
   ],
   "source": [
    "# Create and train the SVM model\n",
    "svm = SVC(kernel='rbf', random_state=42, C=0.5)\n",
    "svm.fit(X_train, y_train)\n",
    "\n",
    "# Make predictions on the test set\n",
    "y_pred = svm.predict(X_test)\n",
    "\n",
    "# Evaluate the model\n",
    "accuracy = accuracy_score(y_test, y_pred)\n",
    "report = classification_report(y_test, y_pred, target_names=classes)\n",
    "\n",
    "print(f'Accuracy: {accuracy:.2f}')\n",
    "print('Classification Report:')\n",
    "print(report)"
   ]
  },
  {
   "cell_type": "code",
   "execution_count": 58,
   "metadata": {},
   "outputs": [
    {
     "name": "stdout",
     "output_type": "stream",
     "text": [
      "Accuracy: 0.47\n",
      "Classification Report:\n",
      "              precision    recall  f1-score   support\n",
      "\n",
      "    Contrato       0.43      0.98      0.60       375\n",
      "      Manual       0.88      0.11      0.19       538\n",
      "\n",
      "    accuracy                           0.47       913\n",
      "   macro avg       0.66      0.54      0.40       913\n",
      "weighted avg       0.70      0.47      0.36       913\n",
      "\n"
     ]
    }
   ],
   "source": [
    "# Create and train the SVM model\n",
    "svm = SVC(kernel='poly', random_state=42, C=0.5)\n",
    "svm.fit(X_train, y_train)\n",
    "\n",
    "# Make predictions on the test set\n",
    "y_pred = svm.predict(X_test)\n",
    "\n",
    "# Evaluate the model\n",
    "accuracy = accuracy_score(y_test, y_pred)\n",
    "report = classification_report(y_test, y_pred, target_names=classes)\n",
    "\n",
    "print(f'Accuracy: {accuracy:.2f}')\n",
    "print('Classification Report:')\n",
    "print(report)"
   ]
  }
 ],
 "metadata": {
  "kernelspec": {
   "display_name": "base",
   "language": "python",
   "name": "python3"
  },
  "language_info": {
   "codemirror_mode": {
    "name": "ipython",
    "version": 3
   },
   "file_extension": ".py",
   "mimetype": "text/x-python",
   "name": "python",
   "nbconvert_exporter": "python",
   "pygments_lexer": "ipython3",
   "version": "3.11.7"
  }
 },
 "nbformat": 4,
 "nbformat_minor": 2
}
